{
 "cells": [
  {
   "cell_type": "code",
   "execution_count": 3,
   "metadata": {},
   "outputs": [
    {
     "name": "stdout",
     "output_type": "stream",
     "text": [
      "Requirement already satisfied: kaleido in c:\\users\\anjali\\anaconda3\\lib\\site-packages (0.2.1)\n",
      "Note: you may need to restart the kernel to use updated packages.\n"
     ]
    }
   ],
   "source": [
    "pip install kaleido"
   ]
  },
  {
   "cell_type": "markdown",
   "metadata": {},
   "source": [
    "Python interface to _Kaleido_, a cross-platform library for generating static images (e.g. png, svg, pdf, etc.) for web-based visualization libraries, with a particular focus on eliminating external dependencies."
   ]
  },
  {
   "cell_type": "code",
   "execution_count": 4,
   "metadata": {},
   "outputs": [],
   "source": [
    "import pandas as pd\n",
    "import plotly.express as px"
   ]
  },
  {
   "cell_type": "code",
   "execution_count": 9,
   "metadata": {},
   "outputs": [
    {
     "data": {
      "text/html": [
       "<div>\n",
       "<style scoped>\n",
       "    .dataframe tbody tr th:only-of-type {\n",
       "        vertical-align: middle;\n",
       "    }\n",
       "\n",
       "    .dataframe tbody tr th {\n",
       "        vertical-align: top;\n",
       "    }\n",
       "\n",
       "    .dataframe thead th {\n",
       "        text-align: right;\n",
       "    }\n",
       "</style>\n",
       "<table border=\"1\" class=\"dataframe\">\n",
       "  <thead>\n",
       "    <tr style=\"text-align: right;\">\n",
       "      <th></th>\n",
       "      <th>Unnamed: 0</th>\n",
       "      <th>State/UT</th>\n",
       "      <th>2019_Assessment_VDF</th>\n",
       "      <th>2019_Assessment_Total_Forest_Cover</th>\n",
       "      <th>scrub</th>\n",
       "      <th>2019_Assessment_MDF</th>\n",
       "      <th>2019_Assessment_OF</th>\n",
       "    </tr>\n",
       "  </thead>\n",
       "  <tbody>\n",
       "    <tr>\n",
       "      <th>0</th>\n",
       "      <td>0</td>\n",
       "      <td>Madhya Pradesh</td>\n",
       "      <td>6676.00</td>\n",
       "      <td>77482.00</td>\n",
       "      <td>6002.00</td>\n",
       "      <td>34341.00</td>\n",
       "      <td>36465.00</td>\n",
       "    </tr>\n",
       "    <tr>\n",
       "      <th>1</th>\n",
       "      <td>1</td>\n",
       "      <td>Arunachal Pradesh</td>\n",
       "      <td>21095.00</td>\n",
       "      <td>66688.00</td>\n",
       "      <td>229.00</td>\n",
       "      <td>30557.00</td>\n",
       "      <td>15036.00</td>\n",
       "    </tr>\n",
       "    <tr>\n",
       "      <th>2</th>\n",
       "      <td>2</td>\n",
       "      <td>Chhattisgarh</td>\n",
       "      <td>7068.00</td>\n",
       "      <td>55611.00</td>\n",
       "      <td>610.00</td>\n",
       "      <td>32198.00</td>\n",
       "      <td>16345.00</td>\n",
       "    </tr>\n",
       "    <tr>\n",
       "      <th>3</th>\n",
       "      <td>3</td>\n",
       "      <td>Odisha</td>\n",
       "      <td>6970.00</td>\n",
       "      <td>51619.00</td>\n",
       "      <td>4327.00</td>\n",
       "      <td>21552.00</td>\n",
       "      <td>23097.00</td>\n",
       "    </tr>\n",
       "    <tr>\n",
       "      <th>4</th>\n",
       "      <td>4</td>\n",
       "      <td>Maharashtra</td>\n",
       "      <td>8721.00</td>\n",
       "      <td>50778.00</td>\n",
       "      <td>4256.00</td>\n",
       "      <td>20572.00</td>\n",
       "      <td>21485.00</td>\n",
       "    </tr>\n",
       "    <tr>\n",
       "      <th>5</th>\n",
       "      <td>5</td>\n",
       "      <td>Karnataka</td>\n",
       "      <td>4501.00</td>\n",
       "      <td>38575.00</td>\n",
       "      <td>4484.00</td>\n",
       "      <td>21048.00</td>\n",
       "      <td>13026.00</td>\n",
       "    </tr>\n",
       "    <tr>\n",
       "      <th>6</th>\n",
       "      <td>6</td>\n",
       "      <td>Andhra Pradesh</td>\n",
       "      <td>1994.00</td>\n",
       "      <td>29137.00</td>\n",
       "      <td>8255.00</td>\n",
       "      <td>13938.00</td>\n",
       "      <td>13205.00</td>\n",
       "    </tr>\n",
       "    <tr>\n",
       "      <th>7</th>\n",
       "      <td>7</td>\n",
       "      <td>Assam</td>\n",
       "      <td>2795.00</td>\n",
       "      <td>28327.00</td>\n",
       "      <td>173.00</td>\n",
       "      <td>10279.00</td>\n",
       "      <td>15253.00</td>\n",
       "    </tr>\n",
       "    <tr>\n",
       "      <th>8</th>\n",
       "      <td>8</td>\n",
       "      <td>Tamil Nadu</td>\n",
       "      <td>3605.00</td>\n",
       "      <td>26364.00</td>\n",
       "      <td>715.00</td>\n",
       "      <td>11030.00</td>\n",
       "      <td>11729.00</td>\n",
       "    </tr>\n",
       "    <tr>\n",
       "      <th>9</th>\n",
       "      <td>9</td>\n",
       "      <td>Uttarakhand</td>\n",
       "      <td>5047.00</td>\n",
       "      <td>24303.00</td>\n",
       "      <td>383.00</td>\n",
       "      <td>12805.00</td>\n",
       "      <td>6451.00</td>\n",
       "    </tr>\n",
       "    <tr>\n",
       "      <th>10</th>\n",
       "      <td>10</td>\n",
       "      <td>Jammu &amp; Kashmir</td>\n",
       "      <td>4281.00</td>\n",
       "      <td>23612.00</td>\n",
       "      <td>548.00</td>\n",
       "      <td>8612.00</td>\n",
       "      <td>10719.00</td>\n",
       "    </tr>\n",
       "    <tr>\n",
       "      <th>11</th>\n",
       "      <td>11</td>\n",
       "      <td>Jharkhand</td>\n",
       "      <td>2603.00</td>\n",
       "      <td>23611.00</td>\n",
       "      <td>688.00</td>\n",
       "      <td>9687.00</td>\n",
       "      <td>11321.00</td>\n",
       "    </tr>\n",
       "    <tr>\n",
       "      <th>12</th>\n",
       "      <td>12</td>\n",
       "      <td>Kerala</td>\n",
       "      <td>1935.00</td>\n",
       "      <td>21144.00</td>\n",
       "      <td>13.00</td>\n",
       "      <td>9508.00</td>\n",
       "      <td>9701.00</td>\n",
       "    </tr>\n",
       "    <tr>\n",
       "      <th>13</th>\n",
       "      <td>13</td>\n",
       "      <td>UT of J&amp;K</td>\n",
       "      <td>4203.00</td>\n",
       "      <td>21122.00</td>\n",
       "      <td>250.00</td>\n",
       "      <td>7952.00</td>\n",
       "      <td>8967.00</td>\n",
       "    </tr>\n",
       "    <tr>\n",
       "      <th>14</th>\n",
       "      <td>14</td>\n",
       "      <td>Telangana</td>\n",
       "      <td>1608.00</td>\n",
       "      <td>20582.00</td>\n",
       "      <td>3615.00</td>\n",
       "      <td>8787.00</td>\n",
       "      <td>10187.00</td>\n",
       "    </tr>\n",
       "    <tr>\n",
       "      <th>15</th>\n",
       "      <td>15</td>\n",
       "      <td>Mizoram</td>\n",
       "      <td>157.00</td>\n",
       "      <td>18006.00</td>\n",
       "      <td>1.00</td>\n",
       "      <td>5801.00</td>\n",
       "      <td>12048.00</td>\n",
       "    </tr>\n",
       "    <tr>\n",
       "      <th>16</th>\n",
       "      <td>16</td>\n",
       "      <td>Meghalaya</td>\n",
       "      <td>489.00</td>\n",
       "      <td>17119.00</td>\n",
       "      <td>600.00</td>\n",
       "      <td>9267.00</td>\n",
       "      <td>7363.00</td>\n",
       "    </tr>\n",
       "    <tr>\n",
       "      <th>17</th>\n",
       "      <td>17</td>\n",
       "      <td>West Bengal</td>\n",
       "      <td>3019.00</td>\n",
       "      <td>16902.00</td>\n",
       "      <td>146.00</td>\n",
       "      <td>4160.00</td>\n",
       "      <td>9723.00</td>\n",
       "    </tr>\n",
       "    <tr>\n",
       "      <th>18</th>\n",
       "      <td>18</td>\n",
       "      <td>Manipur</td>\n",
       "      <td>905.00</td>\n",
       "      <td>16847.00</td>\n",
       "      <td>1181.00</td>\n",
       "      <td>6386.00</td>\n",
       "      <td>9556.00</td>\n",
       "    </tr>\n",
       "    <tr>\n",
       "      <th>19</th>\n",
       "      <td>19</td>\n",
       "      <td>Rajasthan</td>\n",
       "      <td>78.00</td>\n",
       "      <td>16630.00</td>\n",
       "      <td>4760.00</td>\n",
       "      <td>4342.00</td>\n",
       "      <td>12210.00</td>\n",
       "    </tr>\n",
       "    <tr>\n",
       "      <th>20</th>\n",
       "      <td>20</td>\n",
       "      <td>Himachal Pradesh</td>\n",
       "      <td>3113.00</td>\n",
       "      <td>15434.00</td>\n",
       "      <td>315.00</td>\n",
       "      <td>7126.00</td>\n",
       "      <td>5195.00</td>\n",
       "    </tr>\n",
       "    <tr>\n",
       "      <th>21</th>\n",
       "      <td>21</td>\n",
       "      <td>Gujarat</td>\n",
       "      <td>378.00</td>\n",
       "      <td>14857.00</td>\n",
       "      <td>2994.00</td>\n",
       "      <td>5092.00</td>\n",
       "      <td>9387.00</td>\n",
       "    </tr>\n",
       "    <tr>\n",
       "      <th>22</th>\n",
       "      <td>22</td>\n",
       "      <td>Uttar Pradesh</td>\n",
       "      <td>2617.00</td>\n",
       "      <td>14806.00</td>\n",
       "      <td>587.00</td>\n",
       "      <td>4080.00</td>\n",
       "      <td>8109.00</td>\n",
       "    </tr>\n",
       "    <tr>\n",
       "      <th>23</th>\n",
       "      <td>23</td>\n",
       "      <td>Nagaland</td>\n",
       "      <td>1273.00</td>\n",
       "      <td>12486.00</td>\n",
       "      <td>635.00</td>\n",
       "      <td>4534.00</td>\n",
       "      <td>6679.00</td>\n",
       "    </tr>\n",
       "    <tr>\n",
       "      <th>24</th>\n",
       "      <td>24</td>\n",
       "      <td>Tripura</td>\n",
       "      <td>654.00</td>\n",
       "      <td>7726.00</td>\n",
       "      <td>29.00</td>\n",
       "      <td>5236.00</td>\n",
       "      <td>1836.00</td>\n",
       "    </tr>\n",
       "    <tr>\n",
       "      <th>25</th>\n",
       "      <td>25</td>\n",
       "      <td>Bihar</td>\n",
       "      <td>333.00</td>\n",
       "      <td>7306.00</td>\n",
       "      <td>250.00</td>\n",
       "      <td>3280.00</td>\n",
       "      <td>3693.00</td>\n",
       "    </tr>\n",
       "    <tr>\n",
       "      <th>26</th>\n",
       "      <td>26</td>\n",
       "      <td>Andaman &amp; Nicobar</td>\n",
       "      <td>5678.00</td>\n",
       "      <td>6743.00</td>\n",
       "      <td>1.00</td>\n",
       "      <td>684.00</td>\n",
       "      <td>381.00</td>\n",
       "    </tr>\n",
       "    <tr>\n",
       "      <th>27</th>\n",
       "      <td>27</td>\n",
       "      <td>Sikkim</td>\n",
       "      <td>1102.00</td>\n",
       "      <td>3342.00</td>\n",
       "      <td>307.00</td>\n",
       "      <td>1552.00</td>\n",
       "      <td>688.00</td>\n",
       "    </tr>\n",
       "    <tr>\n",
       "      <th>28</th>\n",
       "      <td>28</td>\n",
       "      <td>Jammu &amp; UT of</td>\n",
       "      <td>78.00</td>\n",
       "      <td>2490.00</td>\n",
       "      <td>298.00</td>\n",
       "      <td>660.00</td>\n",
       "      <td>1752.00</td>\n",
       "    </tr>\n",
       "    <tr>\n",
       "      <th>29</th>\n",
       "      <td>29</td>\n",
       "      <td>Goa</td>\n",
       "      <td>538.00</td>\n",
       "      <td>2237.00</td>\n",
       "      <td>0.00</td>\n",
       "      <td>576.00</td>\n",
       "      <td>1123.00</td>\n",
       "    </tr>\n",
       "    <tr>\n",
       "      <th>30</th>\n",
       "      <td>30</td>\n",
       "      <td>Punjab</td>\n",
       "      <td>8.00</td>\n",
       "      <td>1849.00</td>\n",
       "      <td>33.00</td>\n",
       "      <td>801.00</td>\n",
       "      <td>1040.00</td>\n",
       "    </tr>\n",
       "    <tr>\n",
       "      <th>31</th>\n",
       "      <td>31</td>\n",
       "      <td>Haryana</td>\n",
       "      <td>28.00</td>\n",
       "      <td>1602.00</td>\n",
       "      <td>154.00</td>\n",
       "      <td>451.00</td>\n",
       "      <td>1123.00</td>\n",
       "    </tr>\n",
       "    <tr>\n",
       "      <th>32</th>\n",
       "      <td>32</td>\n",
       "      <td>Dadra &amp; Nagar Haveli</td>\n",
       "      <td>0.00</td>\n",
       "      <td>207.00</td>\n",
       "      <td>5.00</td>\n",
       "      <td>80.00</td>\n",
       "      <td>127.00</td>\n",
       "    </tr>\n",
       "    <tr>\n",
       "      <th>33</th>\n",
       "      <td>33</td>\n",
       "      <td>Delhi</td>\n",
       "      <td>6.72</td>\n",
       "      <td>195.44</td>\n",
       "      <td>0.30</td>\n",
       "      <td>56.42</td>\n",
       "      <td>132.30</td>\n",
       "    </tr>\n",
       "    <tr>\n",
       "      <th>34</th>\n",
       "      <td>34</td>\n",
       "      <td>Puducherry</td>\n",
       "      <td>0.00</td>\n",
       "      <td>52.41</td>\n",
       "      <td>0.00</td>\n",
       "      <td>17.66</td>\n",
       "      <td>34.75</td>\n",
       "    </tr>\n",
       "    <tr>\n",
       "      <th>35</th>\n",
       "      <td>35</td>\n",
       "      <td>Lakshadweep</td>\n",
       "      <td>0.00</td>\n",
       "      <td>27.10</td>\n",
       "      <td>0.00</td>\n",
       "      <td>16.09</td>\n",
       "      <td>11.01</td>\n",
       "    </tr>\n",
       "    <tr>\n",
       "      <th>36</th>\n",
       "      <td>36</td>\n",
       "      <td>Chandigarh</td>\n",
       "      <td>1.36</td>\n",
       "      <td>22.03</td>\n",
       "      <td>0.10</td>\n",
       "      <td>14.24</td>\n",
       "      <td>6.43</td>\n",
       "    </tr>\n",
       "    <tr>\n",
       "      <th>37</th>\n",
       "      <td>37</td>\n",
       "      <td>Daman &amp; Diu</td>\n",
       "      <td>1.40</td>\n",
       "      <td>20.49</td>\n",
       "      <td>0.19</td>\n",
       "      <td>5.69</td>\n",
       "      <td>13.40</td>\n",
       "    </tr>\n",
       "    <tr>\n",
       "      <th>38</th>\n",
       "      <td>38</td>\n",
       "      <td>Ladakh</td>\n",
       "      <td>77.62</td>\n",
       "      <td>2489.30</td>\n",
       "      <td>297.99</td>\n",
       "      <td>659.89</td>\n",
       "      <td>1751.79</td>\n",
       "    </tr>\n",
       "  </tbody>\n",
       "</table>\n",
       "</div>"
      ],
      "text/plain": [
       "    Unnamed: 0              State/UT  2019_Assessment_VDF  \\\n",
       "0            0        Madhya Pradesh              6676.00   \n",
       "1            1     Arunachal Pradesh             21095.00   \n",
       "2            2          Chhattisgarh              7068.00   \n",
       "3            3                Odisha              6970.00   \n",
       "4            4           Maharashtra              8721.00   \n",
       "5            5             Karnataka              4501.00   \n",
       "6            6        Andhra Pradesh              1994.00   \n",
       "7            7                 Assam              2795.00   \n",
       "8            8            Tamil Nadu              3605.00   \n",
       "9            9           Uttarakhand              5047.00   \n",
       "10          10       Jammu & Kashmir              4281.00   \n",
       "11          11             Jharkhand              2603.00   \n",
       "12          12                Kerala              1935.00   \n",
       "13          13             UT of J&K              4203.00   \n",
       "14          14             Telangana              1608.00   \n",
       "15          15               Mizoram               157.00   \n",
       "16          16             Meghalaya               489.00   \n",
       "17          17           West Bengal              3019.00   \n",
       "18          18               Manipur               905.00   \n",
       "19          19             Rajasthan                78.00   \n",
       "20          20      Himachal Pradesh              3113.00   \n",
       "21          21               Gujarat               378.00   \n",
       "22          22         Uttar Pradesh              2617.00   \n",
       "23          23              Nagaland              1273.00   \n",
       "24          24               Tripura               654.00   \n",
       "25          25                 Bihar               333.00   \n",
       "26          26     Andaman & Nicobar              5678.00   \n",
       "27          27                Sikkim              1102.00   \n",
       "28          28         Jammu & UT of                78.00   \n",
       "29          29                   Goa               538.00   \n",
       "30          30                Punjab                 8.00   \n",
       "31          31               Haryana                28.00   \n",
       "32          32  Dadra & Nagar Haveli                 0.00   \n",
       "33          33                 Delhi                 6.72   \n",
       "34          34            Puducherry                 0.00   \n",
       "35          35           Lakshadweep                 0.00   \n",
       "36          36            Chandigarh                 1.36   \n",
       "37          37           Daman & Diu                 1.40   \n",
       "38          38                Ladakh                77.62   \n",
       "\n",
       "    2019_Assessment_Total_Forest_Cover    scrub  2019_Assessment_MDF  \\\n",
       "0                             77482.00  6002.00             34341.00   \n",
       "1                             66688.00   229.00             30557.00   \n",
       "2                             55611.00   610.00             32198.00   \n",
       "3                             51619.00  4327.00             21552.00   \n",
       "4                             50778.00  4256.00             20572.00   \n",
       "5                             38575.00  4484.00             21048.00   \n",
       "6                             29137.00  8255.00             13938.00   \n",
       "7                             28327.00   173.00             10279.00   \n",
       "8                             26364.00   715.00             11030.00   \n",
       "9                             24303.00   383.00             12805.00   \n",
       "10                            23612.00   548.00              8612.00   \n",
       "11                            23611.00   688.00              9687.00   \n",
       "12                            21144.00    13.00              9508.00   \n",
       "13                            21122.00   250.00              7952.00   \n",
       "14                            20582.00  3615.00              8787.00   \n",
       "15                            18006.00     1.00              5801.00   \n",
       "16                            17119.00   600.00              9267.00   \n",
       "17                            16902.00   146.00              4160.00   \n",
       "18                            16847.00  1181.00              6386.00   \n",
       "19                            16630.00  4760.00              4342.00   \n",
       "20                            15434.00   315.00              7126.00   \n",
       "21                            14857.00  2994.00              5092.00   \n",
       "22                            14806.00   587.00              4080.00   \n",
       "23                            12486.00   635.00              4534.00   \n",
       "24                             7726.00    29.00              5236.00   \n",
       "25                             7306.00   250.00              3280.00   \n",
       "26                             6743.00     1.00               684.00   \n",
       "27                             3342.00   307.00              1552.00   \n",
       "28                             2490.00   298.00               660.00   \n",
       "29                             2237.00     0.00               576.00   \n",
       "30                             1849.00    33.00               801.00   \n",
       "31                             1602.00   154.00               451.00   \n",
       "32                              207.00     5.00                80.00   \n",
       "33                              195.44     0.30                56.42   \n",
       "34                               52.41     0.00                17.66   \n",
       "35                               27.10     0.00                16.09   \n",
       "36                               22.03     0.10                14.24   \n",
       "37                               20.49     0.19                 5.69   \n",
       "38                             2489.30   297.99               659.89   \n",
       "\n",
       "    2019_Assessment_OF  \n",
       "0             36465.00  \n",
       "1             15036.00  \n",
       "2             16345.00  \n",
       "3             23097.00  \n",
       "4             21485.00  \n",
       "5             13026.00  \n",
       "6             13205.00  \n",
       "7             15253.00  \n",
       "8             11729.00  \n",
       "9              6451.00  \n",
       "10            10719.00  \n",
       "11            11321.00  \n",
       "12             9701.00  \n",
       "13             8967.00  \n",
       "14            10187.00  \n",
       "15            12048.00  \n",
       "16             7363.00  \n",
       "17             9723.00  \n",
       "18             9556.00  \n",
       "19            12210.00  \n",
       "20             5195.00  \n",
       "21             9387.00  \n",
       "22             8109.00  \n",
       "23             6679.00  \n",
       "24             1836.00  \n",
       "25             3693.00  \n",
       "26              381.00  \n",
       "27              688.00  \n",
       "28             1752.00  \n",
       "29             1123.00  \n",
       "30             1040.00  \n",
       "31             1123.00  \n",
       "32              127.00  \n",
       "33              132.30  \n",
       "34               34.75  \n",
       "35               11.01  \n",
       "36                6.43  \n",
       "37               13.40  \n",
       "38             1751.79  "
      ]
     },
     "execution_count": 9,
     "metadata": {},
     "output_type": "execute_result"
    }
   ],
   "source": [
    "df = pd.read_csv('2019_Statewise.csv')"
   ]
  },
  {
   "cell_type": "markdown",
   "metadata": {},
   "source": [
    "_Choropleth maps_ : A choropleth map is a type of thematic map in which a set of pre-defined areas is colored or patterned in proportion to a statistical variable that represents an aggregate summary of a geographic characteristic within each area, such as population density etc.  \n",
    "_Geojson Files_: GeoJSON is an open standard geospatial data interchange format that represents simple geographic features and their nonspatial attributes. Based on JavaScript Object Notation (JSON), GeoJSON is a format for encoding a variety of geographic data structures.\n"
   ]
  },
  {
   "cell_type": "code",
   "execution_count": 14,
   "metadata": {
    "scrolled": true
   },
   "outputs": [
    {
     "data": {
      "application/vnd.plotly.v1+json": {
       "config": {
        "plotlyServerURL": "https://plot.ly"
       },
       "data": [
        {
         "coloraxis": "coloraxis",
         "featureidkey": "properties.ST_NM",
         "geo": "geo",
         "geojson": "https://gist.githubusercontent.com/jbrobst/56c13bbbf9d97d187fea01ca62ea5112/raw/e388c4cae20aa53cb5090210a42ebb9b765c0a36/india_states.geojson",
         "hovertemplate": "State/UT=%{location}<br>2019_Assessment_Total_Forest_Cover=%{z}<extra></extra>",
         "locations": [
          "Madhya Pradesh",
          "Arunachal Pradesh",
          "Chhattisgarh",
          "Odisha",
          "Maharashtra",
          "Karnataka",
          "Andhra Pradesh",
          "Assam",
          "Tamil Nadu",
          "Uttarakhand",
          "Jammu & Kashmir",
          "Jharkhand",
          "Kerala",
          "UT of J&K",
          "Telangana",
          "Mizoram",
          "Meghalaya",
          "West Bengal",
          "Manipur",
          "Rajasthan",
          "Himachal Pradesh",
          "Gujarat",
          "Uttar Pradesh",
          "Nagaland",
          "Tripura",
          "Bihar",
          "Andaman & Nicobar",
          "Sikkim",
          "Jammu & UT of",
          "Goa",
          "Punjab",
          "Haryana",
          "Dadra & Nagar Haveli",
          "Delhi",
          "Puducherry",
          "Lakshadweep",
          "Chandigarh",
          "Daman & Diu",
          "Ladakh"
         ],
         "name": "",
         "type": "choropleth",
         "z": [
          77482,
          66688,
          55611,
          51619,
          50778,
          38575,
          29137,
          28327,
          26364,
          24303,
          23612,
          23611,
          21144,
          21122,
          20582,
          18006,
          17119,
          16902,
          16847,
          16630,
          15434,
          14857,
          14806,
          12486,
          7726,
          7306,
          6743,
          3342,
          2490,
          2237,
          1849,
          1602,
          207,
          195.44,
          52.41,
          27.1,
          22.03,
          20.49,
          2489.3
         ]
        },
        {
         "featureidkey": "properties.ST_NM",
         "geojson": "https://gist.githubusercontent.com/jbrobst/56c13bbbf9d97d187fea01ca62ea5112/raw/e388c4cae20aa53cb5090210a42ebb9b765c0a36/india_states.geojson",
         "locations": [
          "Madhya Pradesh",
          "Arunachal Pradesh",
          "Chhattisgarh",
          "Odisha",
          "Maharashtra",
          "Karnataka",
          "Andhra Pradesh",
          "Assam",
          "Tamil Nadu",
          "Uttarakhand",
          "Jammu & Kashmir",
          "Jharkhand",
          "Kerala",
          "UT of J&K",
          "Telangana",
          "Mizoram",
          "Meghalaya",
          "West Bengal",
          "Manipur",
          "Rajasthan",
          "Himachal Pradesh",
          "Gujarat",
          "Uttar Pradesh",
          "Nagaland",
          "Tripura",
          "Bihar",
          "Andaman & Nicobar",
          "Sikkim",
          "Jammu & UT of",
          "Goa",
          "Punjab",
          "Haryana",
          "Dadra & Nagar Haveli",
          "Delhi",
          "Puducherry",
          "Lakshadweep",
          "Chandigarh",
          "Daman & Diu",
          "Ladakh"
         ],
         "mode": "text",
         "text": [
          77482,
          66688,
          55611,
          51619,
          50778,
          38575,
          29137,
          28327,
          26364,
          24303,
          23612,
          23611,
          21144,
          21122,
          20582,
          18006,
          17119,
          16902,
          16847,
          16630,
          15434,
          14857,
          14806,
          12486,
          7726,
          7306,
          6743,
          3342,
          2490,
          2237,
          1849,
          1602,
          207,
          195.44,
          52.41,
          27.1,
          22.03,
          20.49,
          2489.3
         ],
         "textfont": {
          "color": "black",
          "family": "sans serif",
          "size": 10
         },
         "type": "scattergeo"
        }
       ],
       "layout": {
        "coloraxis": {
         "cmax": 77482,
         "cmin": 0,
         "colorbar": {
          "len": 0.75,
          "thickness": 20,
          "title": {
           "text": "2019_Assessment_Total_Forest_Cover"
          },
          "x": 0.7,
          "y": 0,
          "yanchor": "bottom"
         },
         "colorscale": [
          [
           0,
           "#f0f921"
          ],
          [
           0.1111111111111111,
           "#fdca26"
          ],
          [
           0.2222222222222222,
           "#fb9f3a"
          ],
          [
           0.3333333333333333,
           "#ed7953"
          ],
          [
           0.4444444444444444,
           "#d8576b"
          ],
          [
           0.5555555555555556,
           "#bd3786"
          ],
          [
           0.6666666666666666,
           "#9c179e"
          ],
          [
           0.7777777777777778,
           "#7201a8"
          ],
          [
           0.8888888888888888,
           "#46039f"
          ],
          [
           1,
           "#0d0887"
          ]
         ]
        },
        "geo": {
         "center": {},
         "domain": {
          "x": [
           0,
           1
          ],
          "y": [
           0,
           1
          ]
         },
         "fitbounds": "locations",
         "visible": false
        },
        "height": 700,
        "legend": {
         "tracegroupgap": 0
        },
        "template": {
         "data": {
          "bar": [
           {
            "error_x": {
             "color": "#2a3f5f"
            },
            "error_y": {
             "color": "#2a3f5f"
            },
            "marker": {
             "line": {
              "color": "#E5ECF6",
              "width": 0.5
             },
             "pattern": {
              "fillmode": "overlay",
              "size": 10,
              "solidity": 0.2
             }
            },
            "type": "bar"
           }
          ],
          "barpolar": [
           {
            "marker": {
             "line": {
              "color": "#E5ECF6",
              "width": 0.5
             },
             "pattern": {
              "fillmode": "overlay",
              "size": 10,
              "solidity": 0.2
             }
            },
            "type": "barpolar"
           }
          ],
          "carpet": [
           {
            "aaxis": {
             "endlinecolor": "#2a3f5f",
             "gridcolor": "white",
             "linecolor": "white",
             "minorgridcolor": "white",
             "startlinecolor": "#2a3f5f"
            },
            "baxis": {
             "endlinecolor": "#2a3f5f",
             "gridcolor": "white",
             "linecolor": "white",
             "minorgridcolor": "white",
             "startlinecolor": "#2a3f5f"
            },
            "type": "carpet"
           }
          ],
          "choropleth": [
           {
            "colorbar": {
             "outlinewidth": 0,
             "ticks": ""
            },
            "type": "choropleth"
           }
          ],
          "contour": [
           {
            "colorbar": {
             "outlinewidth": 0,
             "ticks": ""
            },
            "colorscale": [
             [
              0,
              "#0d0887"
             ],
             [
              0.1111111111111111,
              "#46039f"
             ],
             [
              0.2222222222222222,
              "#7201a8"
             ],
             [
              0.3333333333333333,
              "#9c179e"
             ],
             [
              0.4444444444444444,
              "#bd3786"
             ],
             [
              0.5555555555555556,
              "#d8576b"
             ],
             [
              0.6666666666666666,
              "#ed7953"
             ],
             [
              0.7777777777777778,
              "#fb9f3a"
             ],
             [
              0.8888888888888888,
              "#fdca26"
             ],
             [
              1,
              "#f0f921"
             ]
            ],
            "type": "contour"
           }
          ],
          "contourcarpet": [
           {
            "colorbar": {
             "outlinewidth": 0,
             "ticks": ""
            },
            "type": "contourcarpet"
           }
          ],
          "heatmap": [
           {
            "colorbar": {
             "outlinewidth": 0,
             "ticks": ""
            },
            "colorscale": [
             [
              0,
              "#0d0887"
             ],
             [
              0.1111111111111111,
              "#46039f"
             ],
             [
              0.2222222222222222,
              "#7201a8"
             ],
             [
              0.3333333333333333,
              "#9c179e"
             ],
             [
              0.4444444444444444,
              "#bd3786"
             ],
             [
              0.5555555555555556,
              "#d8576b"
             ],
             [
              0.6666666666666666,
              "#ed7953"
             ],
             [
              0.7777777777777778,
              "#fb9f3a"
             ],
             [
              0.8888888888888888,
              "#fdca26"
             ],
             [
              1,
              "#f0f921"
             ]
            ],
            "type": "heatmap"
           }
          ],
          "heatmapgl": [
           {
            "colorbar": {
             "outlinewidth": 0,
             "ticks": ""
            },
            "colorscale": [
             [
              0,
              "#0d0887"
             ],
             [
              0.1111111111111111,
              "#46039f"
             ],
             [
              0.2222222222222222,
              "#7201a8"
             ],
             [
              0.3333333333333333,
              "#9c179e"
             ],
             [
              0.4444444444444444,
              "#bd3786"
             ],
             [
              0.5555555555555556,
              "#d8576b"
             ],
             [
              0.6666666666666666,
              "#ed7953"
             ],
             [
              0.7777777777777778,
              "#fb9f3a"
             ],
             [
              0.8888888888888888,
              "#fdca26"
             ],
             [
              1,
              "#f0f921"
             ]
            ],
            "type": "heatmapgl"
           }
          ],
          "histogram": [
           {
            "marker": {
             "pattern": {
              "fillmode": "overlay",
              "size": 10,
              "solidity": 0.2
             }
            },
            "type": "histogram"
           }
          ],
          "histogram2d": [
           {
            "colorbar": {
             "outlinewidth": 0,
             "ticks": ""
            },
            "colorscale": [
             [
              0,
              "#0d0887"
             ],
             [
              0.1111111111111111,
              "#46039f"
             ],
             [
              0.2222222222222222,
              "#7201a8"
             ],
             [
              0.3333333333333333,
              "#9c179e"
             ],
             [
              0.4444444444444444,
              "#bd3786"
             ],
             [
              0.5555555555555556,
              "#d8576b"
             ],
             [
              0.6666666666666666,
              "#ed7953"
             ],
             [
              0.7777777777777778,
              "#fb9f3a"
             ],
             [
              0.8888888888888888,
              "#fdca26"
             ],
             [
              1,
              "#f0f921"
             ]
            ],
            "type": "histogram2d"
           }
          ],
          "histogram2dcontour": [
           {
            "colorbar": {
             "outlinewidth": 0,
             "ticks": ""
            },
            "colorscale": [
             [
              0,
              "#0d0887"
             ],
             [
              0.1111111111111111,
              "#46039f"
             ],
             [
              0.2222222222222222,
              "#7201a8"
             ],
             [
              0.3333333333333333,
              "#9c179e"
             ],
             [
              0.4444444444444444,
              "#bd3786"
             ],
             [
              0.5555555555555556,
              "#d8576b"
             ],
             [
              0.6666666666666666,
              "#ed7953"
             ],
             [
              0.7777777777777778,
              "#fb9f3a"
             ],
             [
              0.8888888888888888,
              "#fdca26"
             ],
             [
              1,
              "#f0f921"
             ]
            ],
            "type": "histogram2dcontour"
           }
          ],
          "mesh3d": [
           {
            "colorbar": {
             "outlinewidth": 0,
             "ticks": ""
            },
            "type": "mesh3d"
           }
          ],
          "parcoords": [
           {
            "line": {
             "colorbar": {
              "outlinewidth": 0,
              "ticks": ""
             }
            },
            "type": "parcoords"
           }
          ],
          "pie": [
           {
            "automargin": true,
            "type": "pie"
           }
          ],
          "scatter": [
           {
            "marker": {
             "colorbar": {
              "outlinewidth": 0,
              "ticks": ""
             }
            },
            "type": "scatter"
           }
          ],
          "scatter3d": [
           {
            "line": {
             "colorbar": {
              "outlinewidth": 0,
              "ticks": ""
             }
            },
            "marker": {
             "colorbar": {
              "outlinewidth": 0,
              "ticks": ""
             }
            },
            "type": "scatter3d"
           }
          ],
          "scattercarpet": [
           {
            "marker": {
             "colorbar": {
              "outlinewidth": 0,
              "ticks": ""
             }
            },
            "type": "scattercarpet"
           }
          ],
          "scattergeo": [
           {
            "marker": {
             "colorbar": {
              "outlinewidth": 0,
              "ticks": ""
             }
            },
            "type": "scattergeo"
           }
          ],
          "scattergl": [
           {
            "marker": {
             "colorbar": {
              "outlinewidth": 0,
              "ticks": ""
             }
            },
            "type": "scattergl"
           }
          ],
          "scattermapbox": [
           {
            "marker": {
             "colorbar": {
              "outlinewidth": 0,
              "ticks": ""
             }
            },
            "type": "scattermapbox"
           }
          ],
          "scatterpolar": [
           {
            "marker": {
             "colorbar": {
              "outlinewidth": 0,
              "ticks": ""
             }
            },
            "type": "scatterpolar"
           }
          ],
          "scatterpolargl": [
           {
            "marker": {
             "colorbar": {
              "outlinewidth": 0,
              "ticks": ""
             }
            },
            "type": "scatterpolargl"
           }
          ],
          "scatterternary": [
           {
            "marker": {
             "colorbar": {
              "outlinewidth": 0,
              "ticks": ""
             }
            },
            "type": "scatterternary"
           }
          ],
          "surface": [
           {
            "colorbar": {
             "outlinewidth": 0,
             "ticks": ""
            },
            "colorscale": [
             [
              0,
              "#0d0887"
             ],
             [
              0.1111111111111111,
              "#46039f"
             ],
             [
              0.2222222222222222,
              "#7201a8"
             ],
             [
              0.3333333333333333,
              "#9c179e"
             ],
             [
              0.4444444444444444,
              "#bd3786"
             ],
             [
              0.5555555555555556,
              "#d8576b"
             ],
             [
              0.6666666666666666,
              "#ed7953"
             ],
             [
              0.7777777777777778,
              "#fb9f3a"
             ],
             [
              0.8888888888888888,
              "#fdca26"
             ],
             [
              1,
              "#f0f921"
             ]
            ],
            "type": "surface"
           }
          ],
          "table": [
           {
            "cells": {
             "fill": {
              "color": "#EBF0F8"
             },
             "line": {
              "color": "white"
             }
            },
            "header": {
             "fill": {
              "color": "#C8D4E3"
             },
             "line": {
              "color": "white"
             }
            },
            "type": "table"
           }
          ]
         },
         "layout": {
          "annotationdefaults": {
           "arrowcolor": "#2a3f5f",
           "arrowhead": 0,
           "arrowwidth": 1
          },
          "autotypenumbers": "strict",
          "coloraxis": {
           "colorbar": {
            "outlinewidth": 0,
            "ticks": ""
           }
          },
          "colorscale": {
           "diverging": [
            [
             0,
             "#8e0152"
            ],
            [
             0.1,
             "#c51b7d"
            ],
            [
             0.2,
             "#de77ae"
            ],
            [
             0.3,
             "#f1b6da"
            ],
            [
             0.4,
             "#fde0ef"
            ],
            [
             0.5,
             "#f7f7f7"
            ],
            [
             0.6,
             "#e6f5d0"
            ],
            [
             0.7,
             "#b8e186"
            ],
            [
             0.8,
             "#7fbc41"
            ],
            [
             0.9,
             "#4d9221"
            ],
            [
             1,
             "#276419"
            ]
           ],
           "sequential": [
            [
             0,
             "#0d0887"
            ],
            [
             0.1111111111111111,
             "#46039f"
            ],
            [
             0.2222222222222222,
             "#7201a8"
            ],
            [
             0.3333333333333333,
             "#9c179e"
            ],
            [
             0.4444444444444444,
             "#bd3786"
            ],
            [
             0.5555555555555556,
             "#d8576b"
            ],
            [
             0.6666666666666666,
             "#ed7953"
            ],
            [
             0.7777777777777778,
             "#fb9f3a"
            ],
            [
             0.8888888888888888,
             "#fdca26"
            ],
            [
             1,
             "#f0f921"
            ]
           ],
           "sequentialminus": [
            [
             0,
             "#0d0887"
            ],
            [
             0.1111111111111111,
             "#46039f"
            ],
            [
             0.2222222222222222,
             "#7201a8"
            ],
            [
             0.3333333333333333,
             "#9c179e"
            ],
            [
             0.4444444444444444,
             "#bd3786"
            ],
            [
             0.5555555555555556,
             "#d8576b"
            ],
            [
             0.6666666666666666,
             "#ed7953"
            ],
            [
             0.7777777777777778,
             "#fb9f3a"
            ],
            [
             0.8888888888888888,
             "#fdca26"
            ],
            [
             1,
             "#f0f921"
            ]
           ]
          },
          "colorway": [
           "#636efa",
           "#EF553B",
           "#00cc96",
           "#ab63fa",
           "#FFA15A",
           "#19d3f3",
           "#FF6692",
           "#B6E880",
           "#FF97FF",
           "#FECB52"
          ],
          "font": {
           "color": "#2a3f5f"
          },
          "geo": {
           "bgcolor": "white",
           "lakecolor": "white",
           "landcolor": "#E5ECF6",
           "showlakes": true,
           "showland": true,
           "subunitcolor": "white"
          },
          "hoverlabel": {
           "align": "left"
          },
          "hovermode": "closest",
          "mapbox": {
           "style": "light"
          },
          "paper_bgcolor": "white",
          "plot_bgcolor": "#E5ECF6",
          "polar": {
           "angularaxis": {
            "gridcolor": "white",
            "linecolor": "white",
            "ticks": ""
           },
           "bgcolor": "#E5ECF6",
           "radialaxis": {
            "gridcolor": "white",
            "linecolor": "white",
            "ticks": ""
           }
          },
          "scene": {
           "xaxis": {
            "backgroundcolor": "#E5ECF6",
            "gridcolor": "white",
            "gridwidth": 2,
            "linecolor": "white",
            "showbackground": true,
            "ticks": "",
            "zerolinecolor": "white"
           },
           "yaxis": {
            "backgroundcolor": "#E5ECF6",
            "gridcolor": "white",
            "gridwidth": 2,
            "linecolor": "white",
            "showbackground": true,
            "ticks": "",
            "zerolinecolor": "white"
           },
           "zaxis": {
            "backgroundcolor": "#E5ECF6",
            "gridcolor": "white",
            "gridwidth": 2,
            "linecolor": "white",
            "showbackground": true,
            "ticks": "",
            "zerolinecolor": "white"
           }
          },
          "shapedefaults": {
           "line": {
            "color": "#2a3f5f"
           }
          },
          "ternary": {
           "aaxis": {
            "gridcolor": "white",
            "linecolor": "white",
            "ticks": ""
           },
           "baxis": {
            "gridcolor": "white",
            "linecolor": "white",
            "ticks": ""
           },
           "bgcolor": "#E5ECF6",
           "caxis": {
            "gridcolor": "white",
            "linecolor": "white",
            "ticks": ""
           }
          },
          "title": {
           "x": 0.05
          },
          "xaxis": {
           "automargin": true,
           "gridcolor": "white",
           "linecolor": "white",
           "ticks": "",
           "title": {
            "standoff": 15
           },
           "zerolinecolor": "white",
           "zerolinewidth": 2
          },
          "yaxis": {
           "automargin": true,
           "gridcolor": "white",
           "linecolor": "white",
           "ticks": "",
           "title": {
            "standoff": 15
           },
           "zerolinecolor": "white",
           "zerolinewidth": 2
          }
         }
        },
        "title": {
         "text": "TOTAL FOREST COVER OF INDIA : 2019",
         "x": 0.5
        },
        "width": 1400
       }
      },
      "text/html": [
       "<div>                            <div id=\"2cb87254-9626-4184-a24d-45e67b5c9fd6\" class=\"plotly-graph-div\" style=\"height:700px; width:1400px;\"></div>            <script type=\"text/javascript\">                require([\"plotly\"], function(Plotly) {                    window.PLOTLYENV=window.PLOTLYENV || {};                                    if (document.getElementById(\"2cb87254-9626-4184-a24d-45e67b5c9fd6\")) {                    Plotly.newPlot(                        \"2cb87254-9626-4184-a24d-45e67b5c9fd6\",                        [{\"coloraxis\":\"coloraxis\",\"featureidkey\":\"properties.ST_NM\",\"geo\":\"geo\",\"geojson\":\"https://gist.githubusercontent.com/jbrobst/56c13bbbf9d97d187fea01ca62ea5112/raw/e388c4cae20aa53cb5090210a42ebb9b765c0a36/india_states.geojson\",\"hovertemplate\":\"State/UT=%{location}<br>2019_Assessment_Total_Forest_Cover=%{z}<extra></extra>\",\"locations\":[\"Madhya Pradesh\",\"Arunachal Pradesh\",\"Chhattisgarh\",\"Odisha\",\"Maharashtra\",\"Karnataka\",\"Andhra Pradesh\",\"Assam\",\"Tamil Nadu\",\"Uttarakhand\",\"Jammu & Kashmir\",\"Jharkhand\",\"Kerala\",\"UT of J&K\",\"Telangana\",\"Mizoram\",\"Meghalaya\",\"West Bengal\",\"Manipur\",\"Rajasthan\",\"Himachal Pradesh\",\"Gujarat\",\"Uttar Pradesh\",\"Nagaland\",\"Tripura\",\"Bihar\",\"Andaman & Nicobar\",\"Sikkim\",\"Jammu & UT of\",\"Goa\",\"Punjab\",\"Haryana\",\"Dadra & Nagar Haveli\",\"Delhi\",\"Puducherry\",\"Lakshadweep\",\"Chandigarh\",\"Daman & Diu\",\"Ladakh\"],\"name\":\"\",\"type\":\"choropleth\",\"z\":[77482.0,66688.0,55611.0,51619.0,50778.0,38575.0,29137.0,28327.0,26364.0,24303.0,23612.0,23611.0,21144.0,21122.0,20582.0,18006.0,17119.0,16902.0,16847.0,16630.0,15434.0,14857.0,14806.0,12486.0,7726.0,7306.0,6743.0,3342.0,2490.0,2237.0,1849.0,1602.0,207.0,195.44,52.41,27.1,22.03,20.49,2489.3]},{\"featureidkey\":\"properties.ST_NM\",\"geojson\":\"https://gist.githubusercontent.com/jbrobst/56c13bbbf9d97d187fea01ca62ea5112/raw/e388c4cae20aa53cb5090210a42ebb9b765c0a36/india_states.geojson\",\"locations\":[\"Madhya Pradesh\",\"Arunachal Pradesh\",\"Chhattisgarh\",\"Odisha\",\"Maharashtra\",\"Karnataka\",\"Andhra Pradesh\",\"Assam\",\"Tamil Nadu\",\"Uttarakhand\",\"Jammu & Kashmir\",\"Jharkhand\",\"Kerala\",\"UT of J&K\",\"Telangana\",\"Mizoram\",\"Meghalaya\",\"West Bengal\",\"Manipur\",\"Rajasthan\",\"Himachal Pradesh\",\"Gujarat\",\"Uttar Pradesh\",\"Nagaland\",\"Tripura\",\"Bihar\",\"Andaman & Nicobar\",\"Sikkim\",\"Jammu & UT of\",\"Goa\",\"Punjab\",\"Haryana\",\"Dadra & Nagar Haveli\",\"Delhi\",\"Puducherry\",\"Lakshadweep\",\"Chandigarh\",\"Daman & Diu\",\"Ladakh\"],\"mode\":\"text\",\"text\":[77482.0,66688.0,55611.0,51619.0,50778.0,38575.0,29137.0,28327.0,26364.0,24303.0,23612.0,23611.0,21144.0,21122.0,20582.0,18006.0,17119.0,16902.0,16847.0,16630.0,15434.0,14857.0,14806.0,12486.0,7726.0,7306.0,6743.0,3342.0,2490.0,2237.0,1849.0,1602.0,207.0,195.44,52.41,27.1,22.03,20.49,2489.3],\"textfont\":{\"color\":\"black\",\"family\":\"sans serif\",\"size\":10},\"type\":\"scattergeo\"}],                        {\"coloraxis\":{\"cmax\":77482.0,\"cmin\":0,\"colorbar\":{\"len\":0.75,\"thickness\":20,\"title\":{\"text\":\"2019_Assessment_Total_Forest_Cover\"},\"x\":0.7,\"y\":0,\"yanchor\":\"bottom\"},\"colorscale\":[[0.0,\"#f0f921\"],[0.1111111111111111,\"#fdca26\"],[0.2222222222222222,\"#fb9f3a\"],[0.3333333333333333,\"#ed7953\"],[0.4444444444444444,\"#d8576b\"],[0.5555555555555556,\"#bd3786\"],[0.6666666666666666,\"#9c179e\"],[0.7777777777777778,\"#7201a8\"],[0.8888888888888888,\"#46039f\"],[1.0,\"#0d0887\"]]},\"geo\":{\"center\":{},\"domain\":{\"x\":[0.0,1.0],\"y\":[0.0,1.0]},\"fitbounds\":\"locations\",\"visible\":false},\"height\":700,\"legend\":{\"tracegroupgap\":0},\"template\":{\"data\":{\"bar\":[{\"error_x\":{\"color\":\"#2a3f5f\"},\"error_y\":{\"color\":\"#2a3f5f\"},\"marker\":{\"line\":{\"color\":\"#E5ECF6\",\"width\":0.5},\"pattern\":{\"fillmode\":\"overlay\",\"size\":10,\"solidity\":0.2}},\"type\":\"bar\"}],\"barpolar\":[{\"marker\":{\"line\":{\"color\":\"#E5ECF6\",\"width\":0.5},\"pattern\":{\"fillmode\":\"overlay\",\"size\":10,\"solidity\":0.2}},\"type\":\"barpolar\"}],\"carpet\":[{\"aaxis\":{\"endlinecolor\":\"#2a3f5f\",\"gridcolor\":\"white\",\"linecolor\":\"white\",\"minorgridcolor\":\"white\",\"startlinecolor\":\"#2a3f5f\"},\"baxis\":{\"endlinecolor\":\"#2a3f5f\",\"gridcolor\":\"white\",\"linecolor\":\"white\",\"minorgridcolor\":\"white\",\"startlinecolor\":\"#2a3f5f\"},\"type\":\"carpet\"}],\"choropleth\":[{\"colorbar\":{\"outlinewidth\":0,\"ticks\":\"\"},\"type\":\"choropleth\"}],\"contour\":[{\"colorbar\":{\"outlinewidth\":0,\"ticks\":\"\"},\"colorscale\":[[0.0,\"#0d0887\"],[0.1111111111111111,\"#46039f\"],[0.2222222222222222,\"#7201a8\"],[0.3333333333333333,\"#9c179e\"],[0.4444444444444444,\"#bd3786\"],[0.5555555555555556,\"#d8576b\"],[0.6666666666666666,\"#ed7953\"],[0.7777777777777778,\"#fb9f3a\"],[0.8888888888888888,\"#fdca26\"],[1.0,\"#f0f921\"]],\"type\":\"contour\"}],\"contourcarpet\":[{\"colorbar\":{\"outlinewidth\":0,\"ticks\":\"\"},\"type\":\"contourcarpet\"}],\"heatmap\":[{\"colorbar\":{\"outlinewidth\":0,\"ticks\":\"\"},\"colorscale\":[[0.0,\"#0d0887\"],[0.1111111111111111,\"#46039f\"],[0.2222222222222222,\"#7201a8\"],[0.3333333333333333,\"#9c179e\"],[0.4444444444444444,\"#bd3786\"],[0.5555555555555556,\"#d8576b\"],[0.6666666666666666,\"#ed7953\"],[0.7777777777777778,\"#fb9f3a\"],[0.8888888888888888,\"#fdca26\"],[1.0,\"#f0f921\"]],\"type\":\"heatmap\"}],\"heatmapgl\":[{\"colorbar\":{\"outlinewidth\":0,\"ticks\":\"\"},\"colorscale\":[[0.0,\"#0d0887\"],[0.1111111111111111,\"#46039f\"],[0.2222222222222222,\"#7201a8\"],[0.3333333333333333,\"#9c179e\"],[0.4444444444444444,\"#bd3786\"],[0.5555555555555556,\"#d8576b\"],[0.6666666666666666,\"#ed7953\"],[0.7777777777777778,\"#fb9f3a\"],[0.8888888888888888,\"#fdca26\"],[1.0,\"#f0f921\"]],\"type\":\"heatmapgl\"}],\"histogram\":[{\"marker\":{\"pattern\":{\"fillmode\":\"overlay\",\"size\":10,\"solidity\":0.2}},\"type\":\"histogram\"}],\"histogram2d\":[{\"colorbar\":{\"outlinewidth\":0,\"ticks\":\"\"},\"colorscale\":[[0.0,\"#0d0887\"],[0.1111111111111111,\"#46039f\"],[0.2222222222222222,\"#7201a8\"],[0.3333333333333333,\"#9c179e\"],[0.4444444444444444,\"#bd3786\"],[0.5555555555555556,\"#d8576b\"],[0.6666666666666666,\"#ed7953\"],[0.7777777777777778,\"#fb9f3a\"],[0.8888888888888888,\"#fdca26\"],[1.0,\"#f0f921\"]],\"type\":\"histogram2d\"}],\"histogram2dcontour\":[{\"colorbar\":{\"outlinewidth\":0,\"ticks\":\"\"},\"colorscale\":[[0.0,\"#0d0887\"],[0.1111111111111111,\"#46039f\"],[0.2222222222222222,\"#7201a8\"],[0.3333333333333333,\"#9c179e\"],[0.4444444444444444,\"#bd3786\"],[0.5555555555555556,\"#d8576b\"],[0.6666666666666666,\"#ed7953\"],[0.7777777777777778,\"#fb9f3a\"],[0.8888888888888888,\"#fdca26\"],[1.0,\"#f0f921\"]],\"type\":\"histogram2dcontour\"}],\"mesh3d\":[{\"colorbar\":{\"outlinewidth\":0,\"ticks\":\"\"},\"type\":\"mesh3d\"}],\"parcoords\":[{\"line\":{\"colorbar\":{\"outlinewidth\":0,\"ticks\":\"\"}},\"type\":\"parcoords\"}],\"pie\":[{\"automargin\":true,\"type\":\"pie\"}],\"scatter\":[{\"marker\":{\"colorbar\":{\"outlinewidth\":0,\"ticks\":\"\"}},\"type\":\"scatter\"}],\"scatter3d\":[{\"line\":{\"colorbar\":{\"outlinewidth\":0,\"ticks\":\"\"}},\"marker\":{\"colorbar\":{\"outlinewidth\":0,\"ticks\":\"\"}},\"type\":\"scatter3d\"}],\"scattercarpet\":[{\"marker\":{\"colorbar\":{\"outlinewidth\":0,\"ticks\":\"\"}},\"type\":\"scattercarpet\"}],\"scattergeo\":[{\"marker\":{\"colorbar\":{\"outlinewidth\":0,\"ticks\":\"\"}},\"type\":\"scattergeo\"}],\"scattergl\":[{\"marker\":{\"colorbar\":{\"outlinewidth\":0,\"ticks\":\"\"}},\"type\":\"scattergl\"}],\"scattermapbox\":[{\"marker\":{\"colorbar\":{\"outlinewidth\":0,\"ticks\":\"\"}},\"type\":\"scattermapbox\"}],\"scatterpolar\":[{\"marker\":{\"colorbar\":{\"outlinewidth\":0,\"ticks\":\"\"}},\"type\":\"scatterpolar\"}],\"scatterpolargl\":[{\"marker\":{\"colorbar\":{\"outlinewidth\":0,\"ticks\":\"\"}},\"type\":\"scatterpolargl\"}],\"scatterternary\":[{\"marker\":{\"colorbar\":{\"outlinewidth\":0,\"ticks\":\"\"}},\"type\":\"scatterternary\"}],\"surface\":[{\"colorbar\":{\"outlinewidth\":0,\"ticks\":\"\"},\"colorscale\":[[0.0,\"#0d0887\"],[0.1111111111111111,\"#46039f\"],[0.2222222222222222,\"#7201a8\"],[0.3333333333333333,\"#9c179e\"],[0.4444444444444444,\"#bd3786\"],[0.5555555555555556,\"#d8576b\"],[0.6666666666666666,\"#ed7953\"],[0.7777777777777778,\"#fb9f3a\"],[0.8888888888888888,\"#fdca26\"],[1.0,\"#f0f921\"]],\"type\":\"surface\"}],\"table\":[{\"cells\":{\"fill\":{\"color\":\"#EBF0F8\"},\"line\":{\"color\":\"white\"}},\"header\":{\"fill\":{\"color\":\"#C8D4E3\"},\"line\":{\"color\":\"white\"}},\"type\":\"table\"}]},\"layout\":{\"annotationdefaults\":{\"arrowcolor\":\"#2a3f5f\",\"arrowhead\":0,\"arrowwidth\":1},\"autotypenumbers\":\"strict\",\"coloraxis\":{\"colorbar\":{\"outlinewidth\":0,\"ticks\":\"\"}},\"colorscale\":{\"diverging\":[[0,\"#8e0152\"],[0.1,\"#c51b7d\"],[0.2,\"#de77ae\"],[0.3,\"#f1b6da\"],[0.4,\"#fde0ef\"],[0.5,\"#f7f7f7\"],[0.6,\"#e6f5d0\"],[0.7,\"#b8e186\"],[0.8,\"#7fbc41\"],[0.9,\"#4d9221\"],[1,\"#276419\"]],\"sequential\":[[0.0,\"#0d0887\"],[0.1111111111111111,\"#46039f\"],[0.2222222222222222,\"#7201a8\"],[0.3333333333333333,\"#9c179e\"],[0.4444444444444444,\"#bd3786\"],[0.5555555555555556,\"#d8576b\"],[0.6666666666666666,\"#ed7953\"],[0.7777777777777778,\"#fb9f3a\"],[0.8888888888888888,\"#fdca26\"],[1.0,\"#f0f921\"]],\"sequentialminus\":[[0.0,\"#0d0887\"],[0.1111111111111111,\"#46039f\"],[0.2222222222222222,\"#7201a8\"],[0.3333333333333333,\"#9c179e\"],[0.4444444444444444,\"#bd3786\"],[0.5555555555555556,\"#d8576b\"],[0.6666666666666666,\"#ed7953\"],[0.7777777777777778,\"#fb9f3a\"],[0.8888888888888888,\"#fdca26\"],[1.0,\"#f0f921\"]]},\"colorway\":[\"#636efa\",\"#EF553B\",\"#00cc96\",\"#ab63fa\",\"#FFA15A\",\"#19d3f3\",\"#FF6692\",\"#B6E880\",\"#FF97FF\",\"#FECB52\"],\"font\":{\"color\":\"#2a3f5f\"},\"geo\":{\"bgcolor\":\"white\",\"lakecolor\":\"white\",\"landcolor\":\"#E5ECF6\",\"showlakes\":true,\"showland\":true,\"subunitcolor\":\"white\"},\"hoverlabel\":{\"align\":\"left\"},\"hovermode\":\"closest\",\"mapbox\":{\"style\":\"light\"},\"paper_bgcolor\":\"white\",\"plot_bgcolor\":\"#E5ECF6\",\"polar\":{\"angularaxis\":{\"gridcolor\":\"white\",\"linecolor\":\"white\",\"ticks\":\"\"},\"bgcolor\":\"#E5ECF6\",\"radialaxis\":{\"gridcolor\":\"white\",\"linecolor\":\"white\",\"ticks\":\"\"}},\"scene\":{\"xaxis\":{\"backgroundcolor\":\"#E5ECF6\",\"gridcolor\":\"white\",\"gridwidth\":2,\"linecolor\":\"white\",\"showbackground\":true,\"ticks\":\"\",\"zerolinecolor\":\"white\"},\"yaxis\":{\"backgroundcolor\":\"#E5ECF6\",\"gridcolor\":\"white\",\"gridwidth\":2,\"linecolor\":\"white\",\"showbackground\":true,\"ticks\":\"\",\"zerolinecolor\":\"white\"},\"zaxis\":{\"backgroundcolor\":\"#E5ECF6\",\"gridcolor\":\"white\",\"gridwidth\":2,\"linecolor\":\"white\",\"showbackground\":true,\"ticks\":\"\",\"zerolinecolor\":\"white\"}},\"shapedefaults\":{\"line\":{\"color\":\"#2a3f5f\"}},\"ternary\":{\"aaxis\":{\"gridcolor\":\"white\",\"linecolor\":\"white\",\"ticks\":\"\"},\"baxis\":{\"gridcolor\":\"white\",\"linecolor\":\"white\",\"ticks\":\"\"},\"bgcolor\":\"#E5ECF6\",\"caxis\":{\"gridcolor\":\"white\",\"linecolor\":\"white\",\"ticks\":\"\"}},\"title\":{\"x\":0.05},\"xaxis\":{\"automargin\":true,\"gridcolor\":\"white\",\"linecolor\":\"white\",\"ticks\":\"\",\"title\":{\"standoff\":15},\"zerolinecolor\":\"white\",\"zerolinewidth\":2},\"yaxis\":{\"automargin\":true,\"gridcolor\":\"white\",\"linecolor\":\"white\",\"ticks\":\"\",\"title\":{\"standoff\":15},\"zerolinecolor\":\"white\",\"zerolinewidth\":2}}},\"title\":{\"text\":\"TOTAL FOREST COVER OF INDIA : 2019\",\"x\":0.5},\"width\":1400},                        {\"responsive\": true}                    ).then(function(){\n",
       "                            \n",
       "var gd = document.getElementById('2cb87254-9626-4184-a24d-45e67b5c9fd6');\n",
       "var x = new MutationObserver(function (mutations, observer) {{\n",
       "        var display = window.getComputedStyle(gd).display;\n",
       "        if (!display || display === 'none') {{\n",
       "            console.log([gd, 'removed!']);\n",
       "            Plotly.purge(gd);\n",
       "            observer.disconnect();\n",
       "        }}\n",
       "}});\n",
       "\n",
       "// Listen for the removal of the full notebook cells\n",
       "var notebookContainer = gd.closest('#notebook-container');\n",
       "if (notebookContainer) {{\n",
       "    x.observe(notebookContainer, {childList: true});\n",
       "}}\n",
       "\n",
       "// Listen for the clearing of the current output cell\n",
       "var outputEl = gd.closest('.output');\n",
       "if (outputEl) {{\n",
       "    x.observe(outputEl, {childList: true});\n",
       "}}\n",
       "\n",
       "                        })                };                });            </script>        </div>"
      ]
     },
     "metadata": {},
     "output_type": "display_data"
    }
   ],
   "source": [
    "color_max = df['2019_Assessment_Total_Forest_Cover'].max()   #The column to be mapped\n",
    "\n",
    "fig = px.choropleth(\n",
    "    df,\n",
    "    geojson=\"https://gist.githubusercontent.com/jbrobst/56c13bbbf9d97d187fea01ca62ea5112/raw/e388c4cae20aa53cb5090210a42ebb9b765c0a36/india_states.geojson\",\n",
    "    featureidkey='properties.ST_NM',\n",
    "    locations='State/UT',\n",
    "    color='2019_Assessment_Total_Forest_Cover',\n",
    "    range_color=(0, color_max),\n",
    "    color_continuous_scale='plasma_r',     \n",
    "    title= 'TOTAL FOREST COVER OF INDIA : 2019',\n",
    "    basemap_visible = False,\n",
    "    height = 700,\n",
    "    width = 1400,\n",
    "      )\n",
    "\n",
    "## Adding annotations\n",
    "fig.add_scattergeo(\n",
    "  geojson=\"https://gist.githubusercontent.com/jbrobst/56c13bbbf9d97d187fea01ca62ea5112/raw/e388c4cae20aa53cb5090210a42ebb9b765c0a36/india_states.geojson\",\n",
    "  locations = df['State/UT'],\n",
    "  text = df['2019_Assessment_Total_Forest_Cover'],\n",
    "  featureidkey=\"properties.ST_NM\",\n",
    "  mode = 'text',\n",
    "  textfont = dict(family=\"sans serif\", size=10, color=\"black\"))\n",
    "\n",
    "fig.update_geos(fitbounds=\"locations\", visible=False)\n",
    "\n",
    "#Adjusting the figure layout\n",
    "fig.update_layout(coloraxis=dict(colorbar_x=0.7,\n",
    "                                 colorbar_y=0, \n",
    "                                 colorbar_len=0.75, \n",
    "                                 colorbar_thickness=20,\n",
    "                                colorbar_yanchor = 'bottom'))\n",
    "fig.update_layout(title_text='TOTAL FOREST COVER OF INDIA : 2019', title_x=0.5)\n",
    "\n",
    "fig.write_image(file='Forest_Statewise_2019Map.png', format='png',scale=10)\n",
    "fig.write_html(\"Forest_Statewise_2019Map.html\")\n",
    "\n",
    "\n",
    "fig.show()"
   ]
  }
 ],
 "metadata": {
  "kernelspec": {
   "display_name": "Python 3",
   "language": "python",
   "name": "python3"
  },
  "language_info": {
   "codemirror_mode": {
    "name": "ipython",
    "version": 3
   },
   "file_extension": ".py",
   "mimetype": "text/x-python",
   "name": "python",
   "nbconvert_exporter": "python",
   "pygments_lexer": "ipython3",
   "version": "3.8.5"
  }
 },
 "nbformat": 4,
 "nbformat_minor": 4
}
