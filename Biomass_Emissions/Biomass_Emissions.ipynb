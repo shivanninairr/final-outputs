{
 "cells": [
  {
   "cell_type": "code",
   "execution_count": 27,
   "metadata": {},
   "outputs": [],
   "source": [
    "import pandas as pd\n",
    "import numpy as np\n",
    "import matplotlib.pyplot as plt\n",
    "import plotly.express as px"
   ]
  },
  {
   "cell_type": "code",
   "execution_count": 59,
   "metadata": {},
   "outputs": [],
   "source": [
    "df=pd.read_csv(\"https://raw.githubusercontent.com/Bruteforce004/Cleaned-data-of-Indian-Forests/main/Biomass_data_for_subnational_administrative_areas_India.csv\")"
   ]
  },
  {
   "cell_type": "code",
   "execution_count": 60,
   "metadata": {},
   "outputs": [
    {
     "data": {
      "text/html": [
       "<div>\n",
       "<style scoped>\n",
       "    .dataframe tbody tr th:only-of-type {\n",
       "        vertical-align: middle;\n",
       "    }\n",
       "\n",
       "    .dataframe tbody tr th {\n",
       "        vertical-align: top;\n",
       "    }\n",
       "\n",
       "    .dataframe thead th {\n",
       "        text-align: right;\n",
       "    }\n",
       "</style>\n",
       "<table border=\"1\" class=\"dataframe\">\n",
       "  <thead>\n",
       "    <tr style=\"text-align: right;\">\n",
       "      <th></th>\n",
       "      <th>State/UT</th>\n",
       "      <th>Tree cover\\tExtent in 2010 (ha)</th>\n",
       "      <th>Carbon biomass(Mt)</th>\n",
       "      <th>Avg biomass per ha (Mt)</th>\n",
       "      <th>Avg annual\\temissions 2001-10 (Mt)</th>\n",
       "      <th>Avg annual emissions 2011-18 (Mt)</th>\n",
       "    </tr>\n",
       "  </thead>\n",
       "  <tbody>\n",
       "    <tr>\n",
       "      <th>2</th>\n",
       "      <td>Arunachal Pradesh</td>\n",
       "      <td>6119808</td>\n",
       "      <td>1844684647</td>\n",
       "      <td>292.0</td>\n",
       "      <td>2046119</td>\n",
       "      <td>3079332</td>\n",
       "    </tr>\n",
       "    <tr>\n",
       "      <th>0</th>\n",
       "      <td>Andaman &amp; Nicobar</td>\n",
       "      <td>680192</td>\n",
       "      <td>188271746</td>\n",
       "      <td>275.0</td>\n",
       "      <td>379438</td>\n",
       "      <td>94293</td>\n",
       "    </tr>\n",
       "    <tr>\n",
       "      <th>29</th>\n",
       "      <td>Sikkim</td>\n",
       "      <td>254097</td>\n",
       "      <td>65577734</td>\n",
       "      <td>261.0</td>\n",
       "      <td>14739</td>\n",
       "      <td>16971</td>\n",
       "    </tr>\n",
       "    <tr>\n",
       "      <th>24</th>\n",
       "      <td>Nagaland</td>\n",
       "      <td>1319972</td>\n",
       "      <td>342532920</td>\n",
       "      <td>261.0</td>\n",
       "      <td>1790822</td>\n",
       "      <td>3565702</td>\n",
       "    </tr>\n",
       "    <tr>\n",
       "      <th>34</th>\n",
       "      <td>Uttarakhand</td>\n",
       "      <td>1733960</td>\n",
       "      <td>507773181</td>\n",
       "      <td>260.0</td>\n",
       "      <td>173051</td>\n",
       "      <td>172713</td>\n",
       "    </tr>\n",
       "  </tbody>\n",
       "</table>\n",
       "</div>"
      ],
      "text/plain": [
       "             State/UT  Tree cover\\tExtent in 2010 (ha)  Carbon biomass(Mt)  \\\n",
       "2   Arunachal Pradesh                          6119808          1844684647   \n",
       "0   Andaman & Nicobar                           680192           188271746   \n",
       "29             Sikkim                           254097            65577734   \n",
       "24           Nagaland                          1319972           342532920   \n",
       "34        Uttarakhand                          1733960           507773181   \n",
       "\n",
       "    Avg biomass per ha (Mt)  Avg annual\\temissions 2001-10 (Mt)  \\\n",
       "2                     292.0                             2046119   \n",
       "0                     275.0                              379438   \n",
       "29                    261.0                               14739   \n",
       "24                    261.0                             1790822   \n",
       "34                    260.0                              173051   \n",
       "\n",
       "    Avg annual emissions 2011-18 (Mt)  \n",
       "2                             3079332  \n",
       "0                               94293  \n",
       "29                              16971  \n",
       "24                            3565702  \n",
       "34                             172713  "
      ]
     },
     "execution_count": 60,
     "metadata": {},
     "output_type": "execute_result"
    }
   ],
   "source": [
    "df.drop([\"Unnamed: 0\", 'Total area (ha)'],axis=1,inplace=True)\n",
    "df.rename({'Administrative area\\t': 'State/UT'}, axis = 1, inplace = True)\n",
    "df.loc[13,'State/UT'] = 'Jammu & Kashmir'\n",
    "df.loc[0,'State/UT'] = 'Andaman & Nicobar'\n",
    "df.loc[23,'State/UT'] = 'Delhi'\n",
    "df.loc[12,'State/UT'] = 'Himachal Pradesh'\n",
    "\n",
    "df = df.sort_values('Avg biomass per ha (Mt)', ascending = False)\n",
    "df.head()"
   ]
  },
  {
   "cell_type": "code",
   "execution_count": 30,
   "metadata": {
    "scrolled": true
   },
   "outputs": [
    {
     "data": {
      "application/vnd.plotly.v1+json": {
       "config": {
        "plotlyServerURL": "https://plot.ly"
       },
       "data": [
        {
         "coloraxis": "coloraxis",
         "featureidkey": "properties.ST_NM",
         "geo": "geo",
         "geojson": "https://gist.githubusercontent.com/jbrobst/56c13bbbf9d97d187fea01ca62ea5112/raw/e388c4cae20aa53cb5090210a42ebb9b765c0a36/india_states.geojson",
         "hovertemplate": "State/UT=%{location}<br>Avg biomass per ha (Mt)=%{z}<extra></extra>",
         "locations": [
          "Arunachal Pradesh",
          "Andaman & Nicobar",
          "Sikkim",
          "Nagaland",
          "Uttarakhand",
          "Manipur",
          "Uttar Pradesh",
          "Himachal Pradesh",
          "Mizoram",
          "Karnataka",
          "Kerala",
          "Jammu & Kashmir",
          "Meghalaya",
          "Goa",
          "Haryana",
          "Bihar",
          "Odisha",
          "Dadra and Nagar Haveli",
          "Madhya Pradesh",
          "Assam",
          "Chhattisgarh",
          "Tripura",
          "Rajasthan",
          "Gujarat",
          "West Bengal",
          "Maharashtra",
          "Jharkhand",
          "Tamil Nadu",
          "Puducherry",
          "Andhra Pradesh",
          "Daman and Diu",
          "Punjab",
          "Telangana",
          "Chandigarh",
          "Delhi",
          "Lakshadweep"
         ],
         "name": "",
         "type": "choropleth",
         "z": [
          292,
          275,
          261,
          261,
          260,
          253,
          240,
          237,
          236,
          226,
          224,
          216,
          216,
          213,
          210,
          208,
          200,
          198,
          196,
          196,
          196,
          195,
          194,
          193,
          190,
          187,
          184,
          183,
          180,
          177,
          177,
          164,
          158,
          137,
          126,
          0
         ]
        },
        {
         "featureidkey": "properties.ST_NM",
         "geojson": "https://gist.githubusercontent.com/jbrobst/56c13bbbf9d97d187fea01ca62ea5112/raw/e388c4cae20aa53cb5090210a42ebb9b765c0a36/india_states.geojson",
         "locations": [
          "Arunachal Pradesh",
          "Andaman & Nicobar",
          "Sikkim",
          "Nagaland",
          "Uttarakhand",
          "Manipur",
          "Uttar Pradesh",
          "Himachal Pradesh",
          "Mizoram",
          "Karnataka",
          "Kerala",
          "Jammu & Kashmir",
          "Meghalaya",
          "Goa",
          "Haryana",
          "Bihar",
          "Odisha",
          "Dadra and Nagar Haveli",
          "Madhya Pradesh",
          "Assam",
          "Chhattisgarh",
          "Tripura",
          "Rajasthan",
          "Gujarat",
          "West Bengal",
          "Maharashtra",
          "Jharkhand",
          "Tamil Nadu",
          "Puducherry",
          "Andhra Pradesh",
          "Daman and Diu",
          "Punjab",
          "Telangana",
          "Chandigarh",
          "Delhi",
          "Lakshadweep"
         ],
         "mode": "text",
         "text": [
          292,
          275,
          261,
          261,
          260,
          253,
          240,
          237,
          236,
          226,
          224,
          216,
          216,
          213,
          210,
          208,
          200,
          198,
          196,
          196,
          196,
          195,
          194,
          193,
          190,
          187,
          184,
          183,
          180,
          177,
          177,
          164,
          158,
          137,
          126,
          0
         ],
         "textfont": {
          "color": "black",
          "family": "sans serif",
          "size": 12
         },
         "type": "scattergeo"
        }
       ],
       "layout": {
        "coloraxis": {
         "cmax": 292,
         "cmin": 0,
         "colorbar": {
          "len": 0.75,
          "thickness": 20,
          "title": {
           "text": "Avg biomass per ha (Mt)"
          },
          "x": 0.7,
          "y": 0,
          "yanchor": "bottom"
         },
         "colorscale": [
          [
           0,
           "#0d0887"
          ],
          [
           0.1111111111111111,
           "#46039f"
          ],
          [
           0.2222222222222222,
           "#7201a8"
          ],
          [
           0.3333333333333333,
           "#9c179e"
          ],
          [
           0.4444444444444444,
           "#bd3786"
          ],
          [
           0.5555555555555556,
           "#d8576b"
          ],
          [
           0.6666666666666666,
           "#ed7953"
          ],
          [
           0.7777777777777778,
           "#fb9f3a"
          ],
          [
           0.8888888888888888,
           "#fdca26"
          ],
          [
           1,
           "#f0f921"
          ]
         ]
        },
        "geo": {
         "center": {},
         "domain": {
          "x": [
           0,
           1
          ],
          "y": [
           0,
           1
          ]
         },
         "fitbounds": "locations",
         "visible": false
        },
        "height": 700,
        "legend": {
         "tracegroupgap": 0
        },
        "template": {
         "data": {
          "bar": [
           {
            "error_x": {
             "color": "#2a3f5f"
            },
            "error_y": {
             "color": "#2a3f5f"
            },
            "marker": {
             "line": {
              "color": "#E5ECF6",
              "width": 0.5
             },
             "pattern": {
              "fillmode": "overlay",
              "size": 10,
              "solidity": 0.2
             }
            },
            "type": "bar"
           }
          ],
          "barpolar": [
           {
            "marker": {
             "line": {
              "color": "#E5ECF6",
              "width": 0.5
             },
             "pattern": {
              "fillmode": "overlay",
              "size": 10,
              "solidity": 0.2
             }
            },
            "type": "barpolar"
           }
          ],
          "carpet": [
           {
            "aaxis": {
             "endlinecolor": "#2a3f5f",
             "gridcolor": "white",
             "linecolor": "white",
             "minorgridcolor": "white",
             "startlinecolor": "#2a3f5f"
            },
            "baxis": {
             "endlinecolor": "#2a3f5f",
             "gridcolor": "white",
             "linecolor": "white",
             "minorgridcolor": "white",
             "startlinecolor": "#2a3f5f"
            },
            "type": "carpet"
           }
          ],
          "choropleth": [
           {
            "colorbar": {
             "outlinewidth": 0,
             "ticks": ""
            },
            "type": "choropleth"
           }
          ],
          "contour": [
           {
            "colorbar": {
             "outlinewidth": 0,
             "ticks": ""
            },
            "colorscale": [
             [
              0,
              "#0d0887"
             ],
             [
              0.1111111111111111,
              "#46039f"
             ],
             [
              0.2222222222222222,
              "#7201a8"
             ],
             [
              0.3333333333333333,
              "#9c179e"
             ],
             [
              0.4444444444444444,
              "#bd3786"
             ],
             [
              0.5555555555555556,
              "#d8576b"
             ],
             [
              0.6666666666666666,
              "#ed7953"
             ],
             [
              0.7777777777777778,
              "#fb9f3a"
             ],
             [
              0.8888888888888888,
              "#fdca26"
             ],
             [
              1,
              "#f0f921"
             ]
            ],
            "type": "contour"
           }
          ],
          "contourcarpet": [
           {
            "colorbar": {
             "outlinewidth": 0,
             "ticks": ""
            },
            "type": "contourcarpet"
           }
          ],
          "heatmap": [
           {
            "colorbar": {
             "outlinewidth": 0,
             "ticks": ""
            },
            "colorscale": [
             [
              0,
              "#0d0887"
             ],
             [
              0.1111111111111111,
              "#46039f"
             ],
             [
              0.2222222222222222,
              "#7201a8"
             ],
             [
              0.3333333333333333,
              "#9c179e"
             ],
             [
              0.4444444444444444,
              "#bd3786"
             ],
             [
              0.5555555555555556,
              "#d8576b"
             ],
             [
              0.6666666666666666,
              "#ed7953"
             ],
             [
              0.7777777777777778,
              "#fb9f3a"
             ],
             [
              0.8888888888888888,
              "#fdca26"
             ],
             [
              1,
              "#f0f921"
             ]
            ],
            "type": "heatmap"
           }
          ],
          "heatmapgl": [
           {
            "colorbar": {
             "outlinewidth": 0,
             "ticks": ""
            },
            "colorscale": [
             [
              0,
              "#0d0887"
             ],
             [
              0.1111111111111111,
              "#46039f"
             ],
             [
              0.2222222222222222,
              "#7201a8"
             ],
             [
              0.3333333333333333,
              "#9c179e"
             ],
             [
              0.4444444444444444,
              "#bd3786"
             ],
             [
              0.5555555555555556,
              "#d8576b"
             ],
             [
              0.6666666666666666,
              "#ed7953"
             ],
             [
              0.7777777777777778,
              "#fb9f3a"
             ],
             [
              0.8888888888888888,
              "#fdca26"
             ],
             [
              1,
              "#f0f921"
             ]
            ],
            "type": "heatmapgl"
           }
          ],
          "histogram": [
           {
            "marker": {
             "pattern": {
              "fillmode": "overlay",
              "size": 10,
              "solidity": 0.2
             }
            },
            "type": "histogram"
           }
          ],
          "histogram2d": [
           {
            "colorbar": {
             "outlinewidth": 0,
             "ticks": ""
            },
            "colorscale": [
             [
              0,
              "#0d0887"
             ],
             [
              0.1111111111111111,
              "#46039f"
             ],
             [
              0.2222222222222222,
              "#7201a8"
             ],
             [
              0.3333333333333333,
              "#9c179e"
             ],
             [
              0.4444444444444444,
              "#bd3786"
             ],
             [
              0.5555555555555556,
              "#d8576b"
             ],
             [
              0.6666666666666666,
              "#ed7953"
             ],
             [
              0.7777777777777778,
              "#fb9f3a"
             ],
             [
              0.8888888888888888,
              "#fdca26"
             ],
             [
              1,
              "#f0f921"
             ]
            ],
            "type": "histogram2d"
           }
          ],
          "histogram2dcontour": [
           {
            "colorbar": {
             "outlinewidth": 0,
             "ticks": ""
            },
            "colorscale": [
             [
              0,
              "#0d0887"
             ],
             [
              0.1111111111111111,
              "#46039f"
             ],
             [
              0.2222222222222222,
              "#7201a8"
             ],
             [
              0.3333333333333333,
              "#9c179e"
             ],
             [
              0.4444444444444444,
              "#bd3786"
             ],
             [
              0.5555555555555556,
              "#d8576b"
             ],
             [
              0.6666666666666666,
              "#ed7953"
             ],
             [
              0.7777777777777778,
              "#fb9f3a"
             ],
             [
              0.8888888888888888,
              "#fdca26"
             ],
             [
              1,
              "#f0f921"
             ]
            ],
            "type": "histogram2dcontour"
           }
          ],
          "mesh3d": [
           {
            "colorbar": {
             "outlinewidth": 0,
             "ticks": ""
            },
            "type": "mesh3d"
           }
          ],
          "parcoords": [
           {
            "line": {
             "colorbar": {
              "outlinewidth": 0,
              "ticks": ""
             }
            },
            "type": "parcoords"
           }
          ],
          "pie": [
           {
            "automargin": true,
            "type": "pie"
           }
          ],
          "scatter": [
           {
            "marker": {
             "colorbar": {
              "outlinewidth": 0,
              "ticks": ""
             }
            },
            "type": "scatter"
           }
          ],
          "scatter3d": [
           {
            "line": {
             "colorbar": {
              "outlinewidth": 0,
              "ticks": ""
             }
            },
            "marker": {
             "colorbar": {
              "outlinewidth": 0,
              "ticks": ""
             }
            },
            "type": "scatter3d"
           }
          ],
          "scattercarpet": [
           {
            "marker": {
             "colorbar": {
              "outlinewidth": 0,
              "ticks": ""
             }
            },
            "type": "scattercarpet"
           }
          ],
          "scattergeo": [
           {
            "marker": {
             "colorbar": {
              "outlinewidth": 0,
              "ticks": ""
             }
            },
            "type": "scattergeo"
           }
          ],
          "scattergl": [
           {
            "marker": {
             "colorbar": {
              "outlinewidth": 0,
              "ticks": ""
             }
            },
            "type": "scattergl"
           }
          ],
          "scattermapbox": [
           {
            "marker": {
             "colorbar": {
              "outlinewidth": 0,
              "ticks": ""
             }
            },
            "type": "scattermapbox"
           }
          ],
          "scatterpolar": [
           {
            "marker": {
             "colorbar": {
              "outlinewidth": 0,
              "ticks": ""
             }
            },
            "type": "scatterpolar"
           }
          ],
          "scatterpolargl": [
           {
            "marker": {
             "colorbar": {
              "outlinewidth": 0,
              "ticks": ""
             }
            },
            "type": "scatterpolargl"
           }
          ],
          "scatterternary": [
           {
            "marker": {
             "colorbar": {
              "outlinewidth": 0,
              "ticks": ""
             }
            },
            "type": "scatterternary"
           }
          ],
          "surface": [
           {
            "colorbar": {
             "outlinewidth": 0,
             "ticks": ""
            },
            "colorscale": [
             [
              0,
              "#0d0887"
             ],
             [
              0.1111111111111111,
              "#46039f"
             ],
             [
              0.2222222222222222,
              "#7201a8"
             ],
             [
              0.3333333333333333,
              "#9c179e"
             ],
             [
              0.4444444444444444,
              "#bd3786"
             ],
             [
              0.5555555555555556,
              "#d8576b"
             ],
             [
              0.6666666666666666,
              "#ed7953"
             ],
             [
              0.7777777777777778,
              "#fb9f3a"
             ],
             [
              0.8888888888888888,
              "#fdca26"
             ],
             [
              1,
              "#f0f921"
             ]
            ],
            "type": "surface"
           }
          ],
          "table": [
           {
            "cells": {
             "fill": {
              "color": "#EBF0F8"
             },
             "line": {
              "color": "white"
             }
            },
            "header": {
             "fill": {
              "color": "#C8D4E3"
             },
             "line": {
              "color": "white"
             }
            },
            "type": "table"
           }
          ]
         },
         "layout": {
          "annotationdefaults": {
           "arrowcolor": "#2a3f5f",
           "arrowhead": 0,
           "arrowwidth": 1
          },
          "autotypenumbers": "strict",
          "coloraxis": {
           "colorbar": {
            "outlinewidth": 0,
            "ticks": ""
           }
          },
          "colorscale": {
           "diverging": [
            [
             0,
             "#8e0152"
            ],
            [
             0.1,
             "#c51b7d"
            ],
            [
             0.2,
             "#de77ae"
            ],
            [
             0.3,
             "#f1b6da"
            ],
            [
             0.4,
             "#fde0ef"
            ],
            [
             0.5,
             "#f7f7f7"
            ],
            [
             0.6,
             "#e6f5d0"
            ],
            [
             0.7,
             "#b8e186"
            ],
            [
             0.8,
             "#7fbc41"
            ],
            [
             0.9,
             "#4d9221"
            ],
            [
             1,
             "#276419"
            ]
           ],
           "sequential": [
            [
             0,
             "#0d0887"
            ],
            [
             0.1111111111111111,
             "#46039f"
            ],
            [
             0.2222222222222222,
             "#7201a8"
            ],
            [
             0.3333333333333333,
             "#9c179e"
            ],
            [
             0.4444444444444444,
             "#bd3786"
            ],
            [
             0.5555555555555556,
             "#d8576b"
            ],
            [
             0.6666666666666666,
             "#ed7953"
            ],
            [
             0.7777777777777778,
             "#fb9f3a"
            ],
            [
             0.8888888888888888,
             "#fdca26"
            ],
            [
             1,
             "#f0f921"
            ]
           ],
           "sequentialminus": [
            [
             0,
             "#0d0887"
            ],
            [
             0.1111111111111111,
             "#46039f"
            ],
            [
             0.2222222222222222,
             "#7201a8"
            ],
            [
             0.3333333333333333,
             "#9c179e"
            ],
            [
             0.4444444444444444,
             "#bd3786"
            ],
            [
             0.5555555555555556,
             "#d8576b"
            ],
            [
             0.6666666666666666,
             "#ed7953"
            ],
            [
             0.7777777777777778,
             "#fb9f3a"
            ],
            [
             0.8888888888888888,
             "#fdca26"
            ],
            [
             1,
             "#f0f921"
            ]
           ]
          },
          "colorway": [
           "#636efa",
           "#EF553B",
           "#00cc96",
           "#ab63fa",
           "#FFA15A",
           "#19d3f3",
           "#FF6692",
           "#B6E880",
           "#FF97FF",
           "#FECB52"
          ],
          "font": {
           "color": "#2a3f5f"
          },
          "geo": {
           "bgcolor": "white",
           "lakecolor": "white",
           "landcolor": "#E5ECF6",
           "showlakes": true,
           "showland": true,
           "subunitcolor": "white"
          },
          "hoverlabel": {
           "align": "left"
          },
          "hovermode": "closest",
          "mapbox": {
           "style": "light"
          },
          "paper_bgcolor": "white",
          "plot_bgcolor": "#E5ECF6",
          "polar": {
           "angularaxis": {
            "gridcolor": "white",
            "linecolor": "white",
            "ticks": ""
           },
           "bgcolor": "#E5ECF6",
           "radialaxis": {
            "gridcolor": "white",
            "linecolor": "white",
            "ticks": ""
           }
          },
          "scene": {
           "xaxis": {
            "backgroundcolor": "#E5ECF6",
            "gridcolor": "white",
            "gridwidth": 2,
            "linecolor": "white",
            "showbackground": true,
            "ticks": "",
            "zerolinecolor": "white"
           },
           "yaxis": {
            "backgroundcolor": "#E5ECF6",
            "gridcolor": "white",
            "gridwidth": 2,
            "linecolor": "white",
            "showbackground": true,
            "ticks": "",
            "zerolinecolor": "white"
           },
           "zaxis": {
            "backgroundcolor": "#E5ECF6",
            "gridcolor": "white",
            "gridwidth": 2,
            "linecolor": "white",
            "showbackground": true,
            "ticks": "",
            "zerolinecolor": "white"
           }
          },
          "shapedefaults": {
           "line": {
            "color": "#2a3f5f"
           }
          },
          "ternary": {
           "aaxis": {
            "gridcolor": "white",
            "linecolor": "white",
            "ticks": ""
           },
           "baxis": {
            "gridcolor": "white",
            "linecolor": "white",
            "ticks": ""
           },
           "bgcolor": "#E5ECF6",
           "caxis": {
            "gridcolor": "white",
            "linecolor": "white",
            "ticks": ""
           }
          },
          "title": {
           "x": 0.05
          },
          "xaxis": {
           "automargin": true,
           "gridcolor": "white",
           "linecolor": "white",
           "ticks": "",
           "title": {
            "standoff": 15
           },
           "zerolinecolor": "white",
           "zerolinewidth": 2
          },
          "yaxis": {
           "automargin": true,
           "gridcolor": "white",
           "linecolor": "white",
           "ticks": "",
           "title": {
            "standoff": 15
           },
           "zerolinecolor": "white",
           "zerolinewidth": 2
          }
         }
        },
        "title": {
         "text": "AVERAGE BIOMASS PER HECTARE IN METRIC TON",
         "x": 0.5
        },
        "width": 1400
       }
      },
      "text/html": [
       "<div>                            <div id=\"6a413704-2076-42fd-9807-fa6581640a6c\" class=\"plotly-graph-div\" style=\"height:700px; width:1400px;\"></div>            <script type=\"text/javascript\">                require([\"plotly\"], function(Plotly) {                    window.PLOTLYENV=window.PLOTLYENV || {};                                    if (document.getElementById(\"6a413704-2076-42fd-9807-fa6581640a6c\")) {                    Plotly.newPlot(                        \"6a413704-2076-42fd-9807-fa6581640a6c\",                        [{\"coloraxis\":\"coloraxis\",\"featureidkey\":\"properties.ST_NM\",\"geo\":\"geo\",\"geojson\":\"https://gist.githubusercontent.com/jbrobst/56c13bbbf9d97d187fea01ca62ea5112/raw/e388c4cae20aa53cb5090210a42ebb9b765c0a36/india_states.geojson\",\"hovertemplate\":\"State/UT=%{location}<br>Avg biomass per ha (Mt)=%{z}<extra></extra>\",\"locations\":[\"Arunachal Pradesh\",\"Andaman & Nicobar\",\"Sikkim\",\"Nagaland\",\"Uttarakhand\",\"Manipur\",\"Uttar Pradesh\",\"Himachal Pradesh\",\"Mizoram\",\"Karnataka\",\"Kerala\",\"Jammu & Kashmir\",\"Meghalaya\",\"Goa\",\"Haryana\",\"Bihar\",\"Odisha\",\"Dadra and Nagar Haveli\",\"Madhya Pradesh\",\"Assam\",\"Chhattisgarh\",\"Tripura\",\"Rajasthan\",\"Gujarat\",\"West Bengal\",\"Maharashtra\",\"Jharkhand\",\"Tamil Nadu\",\"Puducherry\",\"Andhra Pradesh\",\"Daman and Diu\",\"Punjab\",\"Telangana\",\"Chandigarh\",\"Delhi\",\"Lakshadweep\"],\"name\":\"\",\"type\":\"choropleth\",\"z\":[292.0,275.0,261.0,261.0,260.0,253.0,240.0,237.0,236.0,226.0,224.0,216.0,216.0,213.0,210.0,208.0,200.0,198.0,196.0,196.0,196.0,195.0,194.0,193.0,190.0,187.0,184.0,183.0,180.0,177.0,177.0,164.0,158.0,137.0,126.0,0.0]},{\"featureidkey\":\"properties.ST_NM\",\"geojson\":\"https://gist.githubusercontent.com/jbrobst/56c13bbbf9d97d187fea01ca62ea5112/raw/e388c4cae20aa53cb5090210a42ebb9b765c0a36/india_states.geojson\",\"locations\":[\"Arunachal Pradesh\",\"Andaman & Nicobar\",\"Sikkim\",\"Nagaland\",\"Uttarakhand\",\"Manipur\",\"Uttar Pradesh\",\"Himachal Pradesh\",\"Mizoram\",\"Karnataka\",\"Kerala\",\"Jammu & Kashmir\",\"Meghalaya\",\"Goa\",\"Haryana\",\"Bihar\",\"Odisha\",\"Dadra and Nagar Haveli\",\"Madhya Pradesh\",\"Assam\",\"Chhattisgarh\",\"Tripura\",\"Rajasthan\",\"Gujarat\",\"West Bengal\",\"Maharashtra\",\"Jharkhand\",\"Tamil Nadu\",\"Puducherry\",\"Andhra Pradesh\",\"Daman and Diu\",\"Punjab\",\"Telangana\",\"Chandigarh\",\"Delhi\",\"Lakshadweep\"],\"mode\":\"text\",\"text\":[292.0,275.0,261.0,261.0,260.0,253.0,240.0,237.0,236.0,226.0,224.0,216.0,216.0,213.0,210.0,208.0,200.0,198.0,196.0,196.0,196.0,195.0,194.0,193.0,190.0,187.0,184.0,183.0,180.0,177.0,177.0,164.0,158.0,137.0,126.0,0.0],\"textfont\":{\"color\":\"black\",\"family\":\"sans serif\",\"size\":12},\"type\":\"scattergeo\"}],                        {\"coloraxis\":{\"cmax\":292.0,\"cmin\":0,\"colorbar\":{\"len\":0.75,\"thickness\":20,\"title\":{\"text\":\"Avg biomass per ha (Mt)\"},\"x\":0.7,\"y\":0,\"yanchor\":\"bottom\"},\"colorscale\":[[0.0,\"#0d0887\"],[0.1111111111111111,\"#46039f\"],[0.2222222222222222,\"#7201a8\"],[0.3333333333333333,\"#9c179e\"],[0.4444444444444444,\"#bd3786\"],[0.5555555555555556,\"#d8576b\"],[0.6666666666666666,\"#ed7953\"],[0.7777777777777778,\"#fb9f3a\"],[0.8888888888888888,\"#fdca26\"],[1.0,\"#f0f921\"]]},\"geo\":{\"center\":{},\"domain\":{\"x\":[0.0,1.0],\"y\":[0.0,1.0]},\"fitbounds\":\"locations\",\"visible\":false},\"height\":700,\"legend\":{\"tracegroupgap\":0},\"template\":{\"data\":{\"bar\":[{\"error_x\":{\"color\":\"#2a3f5f\"},\"error_y\":{\"color\":\"#2a3f5f\"},\"marker\":{\"line\":{\"color\":\"#E5ECF6\",\"width\":0.5},\"pattern\":{\"fillmode\":\"overlay\",\"size\":10,\"solidity\":0.2}},\"type\":\"bar\"}],\"barpolar\":[{\"marker\":{\"line\":{\"color\":\"#E5ECF6\",\"width\":0.5},\"pattern\":{\"fillmode\":\"overlay\",\"size\":10,\"solidity\":0.2}},\"type\":\"barpolar\"}],\"carpet\":[{\"aaxis\":{\"endlinecolor\":\"#2a3f5f\",\"gridcolor\":\"white\",\"linecolor\":\"white\",\"minorgridcolor\":\"white\",\"startlinecolor\":\"#2a3f5f\"},\"baxis\":{\"endlinecolor\":\"#2a3f5f\",\"gridcolor\":\"white\",\"linecolor\":\"white\",\"minorgridcolor\":\"white\",\"startlinecolor\":\"#2a3f5f\"},\"type\":\"carpet\"}],\"choropleth\":[{\"colorbar\":{\"outlinewidth\":0,\"ticks\":\"\"},\"type\":\"choropleth\"}],\"contour\":[{\"colorbar\":{\"outlinewidth\":0,\"ticks\":\"\"},\"colorscale\":[[0.0,\"#0d0887\"],[0.1111111111111111,\"#46039f\"],[0.2222222222222222,\"#7201a8\"],[0.3333333333333333,\"#9c179e\"],[0.4444444444444444,\"#bd3786\"],[0.5555555555555556,\"#d8576b\"],[0.6666666666666666,\"#ed7953\"],[0.7777777777777778,\"#fb9f3a\"],[0.8888888888888888,\"#fdca26\"],[1.0,\"#f0f921\"]],\"type\":\"contour\"}],\"contourcarpet\":[{\"colorbar\":{\"outlinewidth\":0,\"ticks\":\"\"},\"type\":\"contourcarpet\"}],\"heatmap\":[{\"colorbar\":{\"outlinewidth\":0,\"ticks\":\"\"},\"colorscale\":[[0.0,\"#0d0887\"],[0.1111111111111111,\"#46039f\"],[0.2222222222222222,\"#7201a8\"],[0.3333333333333333,\"#9c179e\"],[0.4444444444444444,\"#bd3786\"],[0.5555555555555556,\"#d8576b\"],[0.6666666666666666,\"#ed7953\"],[0.7777777777777778,\"#fb9f3a\"],[0.8888888888888888,\"#fdca26\"],[1.0,\"#f0f921\"]],\"type\":\"heatmap\"}],\"heatmapgl\":[{\"colorbar\":{\"outlinewidth\":0,\"ticks\":\"\"},\"colorscale\":[[0.0,\"#0d0887\"],[0.1111111111111111,\"#46039f\"],[0.2222222222222222,\"#7201a8\"],[0.3333333333333333,\"#9c179e\"],[0.4444444444444444,\"#bd3786\"],[0.5555555555555556,\"#d8576b\"],[0.6666666666666666,\"#ed7953\"],[0.7777777777777778,\"#fb9f3a\"],[0.8888888888888888,\"#fdca26\"],[1.0,\"#f0f921\"]],\"type\":\"heatmapgl\"}],\"histogram\":[{\"marker\":{\"pattern\":{\"fillmode\":\"overlay\",\"size\":10,\"solidity\":0.2}},\"type\":\"histogram\"}],\"histogram2d\":[{\"colorbar\":{\"outlinewidth\":0,\"ticks\":\"\"},\"colorscale\":[[0.0,\"#0d0887\"],[0.1111111111111111,\"#46039f\"],[0.2222222222222222,\"#7201a8\"],[0.3333333333333333,\"#9c179e\"],[0.4444444444444444,\"#bd3786\"],[0.5555555555555556,\"#d8576b\"],[0.6666666666666666,\"#ed7953\"],[0.7777777777777778,\"#fb9f3a\"],[0.8888888888888888,\"#fdca26\"],[1.0,\"#f0f921\"]],\"type\":\"histogram2d\"}],\"histogram2dcontour\":[{\"colorbar\":{\"outlinewidth\":0,\"ticks\":\"\"},\"colorscale\":[[0.0,\"#0d0887\"],[0.1111111111111111,\"#46039f\"],[0.2222222222222222,\"#7201a8\"],[0.3333333333333333,\"#9c179e\"],[0.4444444444444444,\"#bd3786\"],[0.5555555555555556,\"#d8576b\"],[0.6666666666666666,\"#ed7953\"],[0.7777777777777778,\"#fb9f3a\"],[0.8888888888888888,\"#fdca26\"],[1.0,\"#f0f921\"]],\"type\":\"histogram2dcontour\"}],\"mesh3d\":[{\"colorbar\":{\"outlinewidth\":0,\"ticks\":\"\"},\"type\":\"mesh3d\"}],\"parcoords\":[{\"line\":{\"colorbar\":{\"outlinewidth\":0,\"ticks\":\"\"}},\"type\":\"parcoords\"}],\"pie\":[{\"automargin\":true,\"type\":\"pie\"}],\"scatter\":[{\"marker\":{\"colorbar\":{\"outlinewidth\":0,\"ticks\":\"\"}},\"type\":\"scatter\"}],\"scatter3d\":[{\"line\":{\"colorbar\":{\"outlinewidth\":0,\"ticks\":\"\"}},\"marker\":{\"colorbar\":{\"outlinewidth\":0,\"ticks\":\"\"}},\"type\":\"scatter3d\"}],\"scattercarpet\":[{\"marker\":{\"colorbar\":{\"outlinewidth\":0,\"ticks\":\"\"}},\"type\":\"scattercarpet\"}],\"scattergeo\":[{\"marker\":{\"colorbar\":{\"outlinewidth\":0,\"ticks\":\"\"}},\"type\":\"scattergeo\"}],\"scattergl\":[{\"marker\":{\"colorbar\":{\"outlinewidth\":0,\"ticks\":\"\"}},\"type\":\"scattergl\"}],\"scattermapbox\":[{\"marker\":{\"colorbar\":{\"outlinewidth\":0,\"ticks\":\"\"}},\"type\":\"scattermapbox\"}],\"scatterpolar\":[{\"marker\":{\"colorbar\":{\"outlinewidth\":0,\"ticks\":\"\"}},\"type\":\"scatterpolar\"}],\"scatterpolargl\":[{\"marker\":{\"colorbar\":{\"outlinewidth\":0,\"ticks\":\"\"}},\"type\":\"scatterpolargl\"}],\"scatterternary\":[{\"marker\":{\"colorbar\":{\"outlinewidth\":0,\"ticks\":\"\"}},\"type\":\"scatterternary\"}],\"surface\":[{\"colorbar\":{\"outlinewidth\":0,\"ticks\":\"\"},\"colorscale\":[[0.0,\"#0d0887\"],[0.1111111111111111,\"#46039f\"],[0.2222222222222222,\"#7201a8\"],[0.3333333333333333,\"#9c179e\"],[0.4444444444444444,\"#bd3786\"],[0.5555555555555556,\"#d8576b\"],[0.6666666666666666,\"#ed7953\"],[0.7777777777777778,\"#fb9f3a\"],[0.8888888888888888,\"#fdca26\"],[1.0,\"#f0f921\"]],\"type\":\"surface\"}],\"table\":[{\"cells\":{\"fill\":{\"color\":\"#EBF0F8\"},\"line\":{\"color\":\"white\"}},\"header\":{\"fill\":{\"color\":\"#C8D4E3\"},\"line\":{\"color\":\"white\"}},\"type\":\"table\"}]},\"layout\":{\"annotationdefaults\":{\"arrowcolor\":\"#2a3f5f\",\"arrowhead\":0,\"arrowwidth\":1},\"autotypenumbers\":\"strict\",\"coloraxis\":{\"colorbar\":{\"outlinewidth\":0,\"ticks\":\"\"}},\"colorscale\":{\"diverging\":[[0,\"#8e0152\"],[0.1,\"#c51b7d\"],[0.2,\"#de77ae\"],[0.3,\"#f1b6da\"],[0.4,\"#fde0ef\"],[0.5,\"#f7f7f7\"],[0.6,\"#e6f5d0\"],[0.7,\"#b8e186\"],[0.8,\"#7fbc41\"],[0.9,\"#4d9221\"],[1,\"#276419\"]],\"sequential\":[[0.0,\"#0d0887\"],[0.1111111111111111,\"#46039f\"],[0.2222222222222222,\"#7201a8\"],[0.3333333333333333,\"#9c179e\"],[0.4444444444444444,\"#bd3786\"],[0.5555555555555556,\"#d8576b\"],[0.6666666666666666,\"#ed7953\"],[0.7777777777777778,\"#fb9f3a\"],[0.8888888888888888,\"#fdca26\"],[1.0,\"#f0f921\"]],\"sequentialminus\":[[0.0,\"#0d0887\"],[0.1111111111111111,\"#46039f\"],[0.2222222222222222,\"#7201a8\"],[0.3333333333333333,\"#9c179e\"],[0.4444444444444444,\"#bd3786\"],[0.5555555555555556,\"#d8576b\"],[0.6666666666666666,\"#ed7953\"],[0.7777777777777778,\"#fb9f3a\"],[0.8888888888888888,\"#fdca26\"],[1.0,\"#f0f921\"]]},\"colorway\":[\"#636efa\",\"#EF553B\",\"#00cc96\",\"#ab63fa\",\"#FFA15A\",\"#19d3f3\",\"#FF6692\",\"#B6E880\",\"#FF97FF\",\"#FECB52\"],\"font\":{\"color\":\"#2a3f5f\"},\"geo\":{\"bgcolor\":\"white\",\"lakecolor\":\"white\",\"landcolor\":\"#E5ECF6\",\"showlakes\":true,\"showland\":true,\"subunitcolor\":\"white\"},\"hoverlabel\":{\"align\":\"left\"},\"hovermode\":\"closest\",\"mapbox\":{\"style\":\"light\"},\"paper_bgcolor\":\"white\",\"plot_bgcolor\":\"#E5ECF6\",\"polar\":{\"angularaxis\":{\"gridcolor\":\"white\",\"linecolor\":\"white\",\"ticks\":\"\"},\"bgcolor\":\"#E5ECF6\",\"radialaxis\":{\"gridcolor\":\"white\",\"linecolor\":\"white\",\"ticks\":\"\"}},\"scene\":{\"xaxis\":{\"backgroundcolor\":\"#E5ECF6\",\"gridcolor\":\"white\",\"gridwidth\":2,\"linecolor\":\"white\",\"showbackground\":true,\"ticks\":\"\",\"zerolinecolor\":\"white\"},\"yaxis\":{\"backgroundcolor\":\"#E5ECF6\",\"gridcolor\":\"white\",\"gridwidth\":2,\"linecolor\":\"white\",\"showbackground\":true,\"ticks\":\"\",\"zerolinecolor\":\"white\"},\"zaxis\":{\"backgroundcolor\":\"#E5ECF6\",\"gridcolor\":\"white\",\"gridwidth\":2,\"linecolor\":\"white\",\"showbackground\":true,\"ticks\":\"\",\"zerolinecolor\":\"white\"}},\"shapedefaults\":{\"line\":{\"color\":\"#2a3f5f\"}},\"ternary\":{\"aaxis\":{\"gridcolor\":\"white\",\"linecolor\":\"white\",\"ticks\":\"\"},\"baxis\":{\"gridcolor\":\"white\",\"linecolor\":\"white\",\"ticks\":\"\"},\"bgcolor\":\"#E5ECF6\",\"caxis\":{\"gridcolor\":\"white\",\"linecolor\":\"white\",\"ticks\":\"\"}},\"title\":{\"x\":0.05},\"xaxis\":{\"automargin\":true,\"gridcolor\":\"white\",\"linecolor\":\"white\",\"ticks\":\"\",\"title\":{\"standoff\":15},\"zerolinecolor\":\"white\",\"zerolinewidth\":2},\"yaxis\":{\"automargin\":true,\"gridcolor\":\"white\",\"linecolor\":\"white\",\"ticks\":\"\",\"title\":{\"standoff\":15},\"zerolinecolor\":\"white\",\"zerolinewidth\":2}}},\"title\":{\"text\":\"AVERAGE BIOMASS PER HECTARE IN METRIC TON\",\"x\":0.5},\"width\":1400},                        {\"responsive\": true}                    ).then(function(){\n",
       "                            \n",
       "var gd = document.getElementById('6a413704-2076-42fd-9807-fa6581640a6c');\n",
       "var x = new MutationObserver(function (mutations, observer) {{\n",
       "        var display = window.getComputedStyle(gd).display;\n",
       "        if (!display || display === 'none') {{\n",
       "            console.log([gd, 'removed!']);\n",
       "            Plotly.purge(gd);\n",
       "            observer.disconnect();\n",
       "        }}\n",
       "}});\n",
       "\n",
       "// Listen for the removal of the full notebook cells\n",
       "var notebookContainer = gd.closest('#notebook-container');\n",
       "if (notebookContainer) {{\n",
       "    x.observe(notebookContainer, {childList: true});\n",
       "}}\n",
       "\n",
       "// Listen for the clearing of the current output cell\n",
       "var outputEl = gd.closest('.output');\n",
       "if (outputEl) {{\n",
       "    x.observe(outputEl, {childList: true});\n",
       "}}\n",
       "\n",
       "                        })                };                });            </script>        </div>"
      ]
     },
     "metadata": {},
     "output_type": "display_data"
    }
   ],
   "source": [
    "color_max = df['Avg biomass per ha (Mt)'].max()\n",
    "\n",
    "fig = px.choropleth(\n",
    "    df,\n",
    "    geojson=\"https://gist.githubusercontent.com/jbrobst/56c13bbbf9d97d187fea01ca62ea5112/raw/e388c4cae20aa53cb5090210a42ebb9b765c0a36/india_states.geojson\",\n",
    "    featureidkey='properties.ST_NM',\n",
    "    locations='State/UT',\n",
    "    color='Avg biomass per ha (Mt)',\n",
    "    range_color=(0, color_max),\n",
    "    color_continuous_scale='plasma',     \n",
    "    title= 'AVERAGE BIOMASS PER HECTARE IN METRIC TON',\n",
    "    basemap_visible = False,\n",
    "    height = 700,\n",
    "    width = 1400,\n",
    "      )\n",
    "\n",
    "## Adding annotations\n",
    "fig.add_scattergeo(\n",
    "  geojson=\"https://gist.githubusercontent.com/jbrobst/56c13bbbf9d97d187fea01ca62ea5112/raw/e388c4cae20aa53cb5090210a42ebb9b765c0a36/india_states.geojson\",\n",
    "  locations = df['State/UT'],\n",
    "  text = df['Avg biomass per ha (Mt)'],\n",
    "  featureidkey=\"properties.ST_NM\",\n",
    "  mode = 'text',\n",
    "  textfont = dict(family=\"sans serif\", size=12, color=\"black\"))\n",
    "\n",
    "fig.update_geos(fitbounds=\"locations\", visible=False)\n",
    "\n",
    "#Adjusting the figure layout\n",
    "fig.update_layout(coloraxis=dict(colorbar_x=0.7,\n",
    "                                 colorbar_y=0, \n",
    "                                 colorbar_len=0.75, \n",
    "                                 colorbar_thickness=20,\n",
    "                                colorbar_yanchor = 'bottom'))\n",
    "fig.update_layout(title_text='AVERAGE BIOMASS PER HECTARE IN METRIC TON', title_x=0.5)\n",
    "\n",
    "fig.write_image(file='BIOMASS_Map.png', format='png',scale=10)\n",
    "fig.write_html(\"BIOMASS_Map.html\")\n",
    "\n",
    "\n",
    "fig.show()"
   ]
  },
  {
   "cell_type": "markdown",
   "metadata": {},
   "source": [
    "*Interpretation : The above density map shows that the North-Eastern region of the country holds the highest average biomass per hectare for the year 2018 followed by the Northern States like Uttarakhand, Uttar Pradesh, Himachal Pradesh and Jammu & Kashmir and Southern States like Karnataka, Kerala and Goa. Rest of the states have an average biomass per hectare ranging from 200-120Mt.*"
   ]
  },
  {
   "cell_type": "code",
   "execution_count": 31,
   "metadata": {},
   "outputs": [
    {
     "data": {
      "text/html": [
       "<div>\n",
       "<style scoped>\n",
       "    .dataframe tbody tr th:only-of-type {\n",
       "        vertical-align: middle;\n",
       "    }\n",
       "\n",
       "    .dataframe tbody tr th {\n",
       "        vertical-align: top;\n",
       "    }\n",
       "\n",
       "    .dataframe thead th {\n",
       "        text-align: right;\n",
       "    }\n",
       "</style>\n",
       "<table border=\"1\" class=\"dataframe\">\n",
       "  <thead>\n",
       "    <tr style=\"text-align: right;\">\n",
       "      <th></th>\n",
       "      <th>State/UT</th>\n",
       "      <th>Tree cover\\tExtent in 2010 (ha)</th>\n",
       "      <th>Carbon biomass(Mt)</th>\n",
       "      <th>Avg biomass per ha (Mt)</th>\n",
       "      <th>Avg annual\\temissions 2001-10 (Mt)</th>\n",
       "      <th>Avg annual emissions 2011-18 (Mt)</th>\n",
       "    </tr>\n",
       "  </thead>\n",
       "  <tbody>\n",
       "    <tr>\n",
       "      <th>2</th>\n",
       "      <td>Arunachal Pradesh</td>\n",
       "      <td>6119808</td>\n",
       "      <td>1844684647</td>\n",
       "      <td>292.0</td>\n",
       "      <td>2046119</td>\n",
       "      <td>3079332</td>\n",
       "    </tr>\n",
       "    <tr>\n",
       "      <th>0</th>\n",
       "      <td>Andaman &amp; Nicobar</td>\n",
       "      <td>680192</td>\n",
       "      <td>188271746</td>\n",
       "      <td>275.0</td>\n",
       "      <td>379438</td>\n",
       "      <td>94293</td>\n",
       "    </tr>\n",
       "    <tr>\n",
       "      <th>29</th>\n",
       "      <td>Sikkim</td>\n",
       "      <td>254097</td>\n",
       "      <td>65577734</td>\n",
       "      <td>261.0</td>\n",
       "      <td>14739</td>\n",
       "      <td>16971</td>\n",
       "    </tr>\n",
       "    <tr>\n",
       "      <th>24</th>\n",
       "      <td>Nagaland</td>\n",
       "      <td>1319972</td>\n",
       "      <td>342532920</td>\n",
       "      <td>261.0</td>\n",
       "      <td>1790822</td>\n",
       "      <td>3565702</td>\n",
       "    </tr>\n",
       "    <tr>\n",
       "      <th>34</th>\n",
       "      <td>Uttarakhand</td>\n",
       "      <td>1733960</td>\n",
       "      <td>507773181</td>\n",
       "      <td>260.0</td>\n",
       "      <td>173051</td>\n",
       "      <td>172713</td>\n",
       "    </tr>\n",
       "  </tbody>\n",
       "</table>\n",
       "</div>"
      ],
      "text/plain": [
       "             State/UT  Tree cover\\tExtent in 2010 (ha)  Carbon biomass(Mt)  \\\n",
       "2   Arunachal Pradesh                          6119808          1844684647   \n",
       "0   Andaman & Nicobar                           680192           188271746   \n",
       "29             Sikkim                           254097            65577734   \n",
       "24           Nagaland                          1319972           342532920   \n",
       "34        Uttarakhand                          1733960           507773181   \n",
       "\n",
       "    Avg biomass per ha (Mt)  Avg annual\\temissions 2001-10 (Mt)  \\\n",
       "2                     292.0                             2046119   \n",
       "0                     275.0                              379438   \n",
       "29                    261.0                               14739   \n",
       "24                    261.0                             1790822   \n",
       "34                    260.0                              173051   \n",
       "\n",
       "    Avg annual emissions 2011-18 (Mt)  \n",
       "2                             3079332  \n",
       "0                               94293  \n",
       "29                              16971  \n",
       "24                            3565702  \n",
       "34                             172713  "
      ]
     },
     "execution_count": 31,
     "metadata": {},
     "output_type": "execute_result"
    }
   ],
   "source": [
    "df.head()"
   ]
  },
  {
   "cell_type": "code",
   "execution_count": 34,
   "metadata": {},
   "outputs": [],
   "source": [
    "df['Difference'] = ((df['Avg annual emissions 2011-18 (Mt)'] - df['Avg annual\\temissions 2001-10 (Mt)'])/df['Avg annual\\temissions 2001-10 (Mt)'])*100"
   ]
  },
  {
   "cell_type": "code",
   "execution_count": 35,
   "metadata": {},
   "outputs": [
    {
     "data": {
      "text/html": [
       "<div>\n",
       "<style scoped>\n",
       "    .dataframe tbody tr th:only-of-type {\n",
       "        vertical-align: middle;\n",
       "    }\n",
       "\n",
       "    .dataframe tbody tr th {\n",
       "        vertical-align: top;\n",
       "    }\n",
       "\n",
       "    .dataframe thead th {\n",
       "        text-align: right;\n",
       "    }\n",
       "</style>\n",
       "<table border=\"1\" class=\"dataframe\">\n",
       "  <thead>\n",
       "    <tr style=\"text-align: right;\">\n",
       "      <th></th>\n",
       "      <th>State/UT</th>\n",
       "      <th>Tree cover\\tExtent in 2010 (ha)</th>\n",
       "      <th>Carbon biomass(Mt)</th>\n",
       "      <th>Avg biomass per ha (Mt)</th>\n",
       "      <th>Avg annual\\temissions 2001-10 (Mt)</th>\n",
       "      <th>Avg annual emissions 2011-18 (Mt)</th>\n",
       "      <th>Difference</th>\n",
       "    </tr>\n",
       "  </thead>\n",
       "  <tbody>\n",
       "    <tr>\n",
       "      <th>2</th>\n",
       "      <td>Arunachal Pradesh</td>\n",
       "      <td>6119808</td>\n",
       "      <td>1844684647</td>\n",
       "      <td>292.0</td>\n",
       "      <td>2046119</td>\n",
       "      <td>3079332</td>\n",
       "      <td>50.496232</td>\n",
       "    </tr>\n",
       "    <tr>\n",
       "      <th>0</th>\n",
       "      <td>Andaman &amp; Nicobar</td>\n",
       "      <td>680192</td>\n",
       "      <td>188271746</td>\n",
       "      <td>275.0</td>\n",
       "      <td>379438</td>\n",
       "      <td>94293</td>\n",
       "      <td>-75.149300</td>\n",
       "    </tr>\n",
       "    <tr>\n",
       "      <th>29</th>\n",
       "      <td>Sikkim</td>\n",
       "      <td>254097</td>\n",
       "      <td>65577734</td>\n",
       "      <td>261.0</td>\n",
       "      <td>14739</td>\n",
       "      <td>16971</td>\n",
       "      <td>15.143497</td>\n",
       "    </tr>\n",
       "    <tr>\n",
       "      <th>24</th>\n",
       "      <td>Nagaland</td>\n",
       "      <td>1319972</td>\n",
       "      <td>342532920</td>\n",
       "      <td>261.0</td>\n",
       "      <td>1790822</td>\n",
       "      <td>3565702</td>\n",
       "      <td>99.109794</td>\n",
       "    </tr>\n",
       "    <tr>\n",
       "      <th>34</th>\n",
       "      <td>Uttarakhand</td>\n",
       "      <td>1733960</td>\n",
       "      <td>507773181</td>\n",
       "      <td>260.0</td>\n",
       "      <td>173051</td>\n",
       "      <td>172713</td>\n",
       "      <td>-0.195318</td>\n",
       "    </tr>\n",
       "    <tr>\n",
       "      <th>20</th>\n",
       "      <td>Manipur</td>\n",
       "      <td>1711044</td>\n",
       "      <td>432136552</td>\n",
       "      <td>253.0</td>\n",
       "      <td>1160070</td>\n",
       "      <td>3256213</td>\n",
       "      <td>180.691079</td>\n",
       "    </tr>\n",
       "    <tr>\n",
       "      <th>33</th>\n",
       "      <td>Uttar Pradesh</td>\n",
       "      <td>370632</td>\n",
       "      <td>86520498</td>\n",
       "      <td>240.0</td>\n",
       "      <td>52842</td>\n",
       "      <td>32897</td>\n",
       "      <td>-37.744597</td>\n",
       "    </tr>\n",
       "    <tr>\n",
       "      <th>12</th>\n",
       "      <td>Himachal Pradesh</td>\n",
       "      <td>1149441</td>\n",
       "      <td>324786617</td>\n",
       "      <td>237.0</td>\n",
       "      <td>78309</td>\n",
       "      <td>32922</td>\n",
       "      <td>-57.958855</td>\n",
       "    </tr>\n",
       "    <tr>\n",
       "      <th>22</th>\n",
       "      <td>Mizoram</td>\n",
       "      <td>1814071</td>\n",
       "      <td>456279696</td>\n",
       "      <td>236.0</td>\n",
       "      <td>898461</td>\n",
       "      <td>4169918</td>\n",
       "      <td>364.117864</td>\n",
       "    </tr>\n",
       "    <tr>\n",
       "      <th>15</th>\n",
       "      <td>Karnataka</td>\n",
       "      <td>1884633</td>\n",
       "      <td>514651959</td>\n",
       "      <td>226.0</td>\n",
       "      <td>433168</td>\n",
       "      <td>516482</td>\n",
       "      <td>19.233646</td>\n",
       "    </tr>\n",
       "    <tr>\n",
       "      <th>16</th>\n",
       "      <td>Kerala</td>\n",
       "      <td>2270278</td>\n",
       "      <td>580909883</td>\n",
       "      <td>224.0</td>\n",
       "      <td>382432</td>\n",
       "      <td>1123204</td>\n",
       "      <td>193.700318</td>\n",
       "    </tr>\n",
       "    <tr>\n",
       "      <th>13</th>\n",
       "      <td>Jammu &amp; Kashmir</td>\n",
       "      <td>873826</td>\n",
       "      <td>232325897</td>\n",
       "      <td>216.0</td>\n",
       "      <td>70207</td>\n",
       "      <td>20050</td>\n",
       "      <td>-71.441594</td>\n",
       "    </tr>\n",
       "    <tr>\n",
       "      <th>21</th>\n",
       "      <td>Meghalaya</td>\n",
       "      <td>1595555</td>\n",
       "      <td>365306441</td>\n",
       "      <td>216.0</td>\n",
       "      <td>1213836</td>\n",
       "      <td>2953875</td>\n",
       "      <td>143.350420</td>\n",
       "    </tr>\n",
       "    <tr>\n",
       "      <th>9</th>\n",
       "      <td>Goa</td>\n",
       "      <td>117102</td>\n",
       "      <td>31303528</td>\n",
       "      <td>213.0</td>\n",
       "      <td>6472</td>\n",
       "      <td>9787</td>\n",
       "      <td>51.220643</td>\n",
       "    </tr>\n",
       "    <tr>\n",
       "      <th>11</th>\n",
       "      <td>Haryana</td>\n",
       "      <td>40183</td>\n",
       "      <td>8984386</td>\n",
       "      <td>210.0</td>\n",
       "      <td>5465</td>\n",
       "      <td>1489</td>\n",
       "      <td>-72.753888</td>\n",
       "    </tr>\n",
       "    <tr>\n",
       "      <th>4</th>\n",
       "      <td>Bihar</td>\n",
       "      <td>206040</td>\n",
       "      <td>32053270</td>\n",
       "      <td>208.0</td>\n",
       "      <td>18614</td>\n",
       "      <td>6371</td>\n",
       "      <td>-65.773074</td>\n",
       "    </tr>\n",
       "    <tr>\n",
       "      <th>25</th>\n",
       "      <td>Odisha</td>\n",
       "      <td>1920233</td>\n",
       "      <td>538313560</td>\n",
       "      <td>200.0</td>\n",
       "      <td>889407</td>\n",
       "      <td>1260347</td>\n",
       "      <td>41.706440</td>\n",
       "    </tr>\n",
       "    <tr>\n",
       "      <th>7</th>\n",
       "      <td>Dadra and Nagar Haveli</td>\n",
       "      <td>260</td>\n",
       "      <td>91025</td>\n",
       "      <td>198.0</td>\n",
       "      <td>6</td>\n",
       "      <td>0</td>\n",
       "      <td>-100.000000</td>\n",
       "    </tr>\n",
       "    <tr>\n",
       "      <th>18</th>\n",
       "      <td>Madhya Pradesh</td>\n",
       "      <td>868274</td>\n",
       "      <td>211814526</td>\n",
       "      <td>196.0</td>\n",
       "      <td>100523</td>\n",
       "      <td>78255</td>\n",
       "      <td>-22.152144</td>\n",
       "    </tr>\n",
       "    <tr>\n",
       "      <th>3</th>\n",
       "      <td>Assam</td>\n",
       "      <td>2570919</td>\n",
       "      <td>540167021</td>\n",
       "      <td>196.0</td>\n",
       "      <td>2037451</td>\n",
       "      <td>3137837</td>\n",
       "      <td>54.007974</td>\n",
       "    </tr>\n",
       "    <tr>\n",
       "      <th>6</th>\n",
       "      <td>Chhattisgarh</td>\n",
       "      <td>2288223</td>\n",
       "      <td>522941325</td>\n",
       "      <td>196.0</td>\n",
       "      <td>409068</td>\n",
       "      <td>520315</td>\n",
       "      <td>27.195234</td>\n",
       "    </tr>\n",
       "    <tr>\n",
       "      <th>32</th>\n",
       "      <td>Tripura</td>\n",
       "      <td>571578</td>\n",
       "      <td>131231794</td>\n",
       "      <td>195.0</td>\n",
       "      <td>754223</td>\n",
       "      <td>1085428</td>\n",
       "      <td>43.913405</td>\n",
       "    </tr>\n",
       "    <tr>\n",
       "      <th>28</th>\n",
       "      <td>Rajasthan</td>\n",
       "      <td>4122</td>\n",
       "      <td>2327764</td>\n",
       "      <td>194.0</td>\n",
       "      <td>3827</td>\n",
       "      <td>908</td>\n",
       "      <td>-76.273844</td>\n",
       "    </tr>\n",
       "    <tr>\n",
       "      <th>10</th>\n",
       "      <td>Gujarat</td>\n",
       "      <td>7031</td>\n",
       "      <td>3470709</td>\n",
       "      <td>193.0</td>\n",
       "      <td>1343</td>\n",
       "      <td>842</td>\n",
       "      <td>-37.304542</td>\n",
       "    </tr>\n",
       "    <tr>\n",
       "      <th>35</th>\n",
       "      <td>West Bengal</td>\n",
       "      <td>332263</td>\n",
       "      <td>77525752</td>\n",
       "      <td>190.0</td>\n",
       "      <td>141185</td>\n",
       "      <td>81426</td>\n",
       "      <td>-42.326734</td>\n",
       "    </tr>\n",
       "    <tr>\n",
       "      <th>19</th>\n",
       "      <td>Maharashtra</td>\n",
       "      <td>880765</td>\n",
       "      <td>201346173</td>\n",
       "      <td>187.0</td>\n",
       "      <td>172158</td>\n",
       "      <td>165935</td>\n",
       "      <td>-3.614703</td>\n",
       "    </tr>\n",
       "    <tr>\n",
       "      <th>14</th>\n",
       "      <td>Jharkhand</td>\n",
       "      <td>317420</td>\n",
       "      <td>102838392</td>\n",
       "      <td>184.0</td>\n",
       "      <td>78455</td>\n",
       "      <td>35248</td>\n",
       "      <td>-55.072334</td>\n",
       "    </tr>\n",
       "    <tr>\n",
       "      <th>30</th>\n",
       "      <td>Tamil Nadu</td>\n",
       "      <td>1001372</td>\n",
       "      <td>225495016</td>\n",
       "      <td>183.0</td>\n",
       "      <td>238060</td>\n",
       "      <td>240331</td>\n",
       "      <td>0.953961</td>\n",
       "    </tr>\n",
       "    <tr>\n",
       "      <th>26</th>\n",
       "      <td>Puducherry</td>\n",
       "      <td>5616</td>\n",
       "      <td>1256209</td>\n",
       "      <td>180.0</td>\n",
       "      <td>1085</td>\n",
       "      <td>1575</td>\n",
       "      <td>45.161290</td>\n",
       "    </tr>\n",
       "    <tr>\n",
       "      <th>1</th>\n",
       "      <td>Andhra Pradesh</td>\n",
       "      <td>1000583</td>\n",
       "      <td>196009629</td>\n",
       "      <td>177.0</td>\n",
       "      <td>285833</td>\n",
       "      <td>370261</td>\n",
       "      <td>29.537527</td>\n",
       "    </tr>\n",
       "    <tr>\n",
       "      <th>8</th>\n",
       "      <td>Daman and Diu</td>\n",
       "      <td>3</td>\n",
       "      <td>3107</td>\n",
       "      <td>177.0</td>\n",
       "      <td>0</td>\n",
       "      <td>2</td>\n",
       "      <td>inf</td>\n",
       "    </tr>\n",
       "    <tr>\n",
       "      <th>27</th>\n",
       "      <td>Punjab</td>\n",
       "      <td>69582</td>\n",
       "      <td>12262591</td>\n",
       "      <td>164.0</td>\n",
       "      <td>15120</td>\n",
       "      <td>4634</td>\n",
       "      <td>-69.351852</td>\n",
       "    </tr>\n",
       "    <tr>\n",
       "      <th>31</th>\n",
       "      <td>Telangana</td>\n",
       "      <td>504043</td>\n",
       "      <td>104670426</td>\n",
       "      <td>158.0</td>\n",
       "      <td>299995</td>\n",
       "      <td>298865</td>\n",
       "      <td>-0.376673</td>\n",
       "    </tr>\n",
       "    <tr>\n",
       "      <th>5</th>\n",
       "      <td>Chandigarh</td>\n",
       "      <td>940</td>\n",
       "      <td>96724</td>\n",
       "      <td>137.0</td>\n",
       "      <td>179</td>\n",
       "      <td>11</td>\n",
       "      <td>-93.854749</td>\n",
       "    </tr>\n",
       "    <tr>\n",
       "      <th>23</th>\n",
       "      <td>Delhi</td>\n",
       "      <td>122</td>\n",
       "      <td>33217</td>\n",
       "      <td>126.0</td>\n",
       "      <td>135</td>\n",
       "      <td>27</td>\n",
       "      <td>-80.000000</td>\n",
       "    </tr>\n",
       "    <tr>\n",
       "      <th>17</th>\n",
       "      <td>Lakshadweep</td>\n",
       "      <td>0</td>\n",
       "      <td>0</td>\n",
       "      <td>0.0</td>\n",
       "      <td>0</td>\n",
       "      <td>0</td>\n",
       "      <td>NaN</td>\n",
       "    </tr>\n",
       "  </tbody>\n",
       "</table>\n",
       "</div>"
      ],
      "text/plain": [
       "                  State/UT  Tree cover\\tExtent in 2010 (ha)  \\\n",
       "2        Arunachal Pradesh                          6119808   \n",
       "0        Andaman & Nicobar                           680192   \n",
       "29                  Sikkim                           254097   \n",
       "24                Nagaland                          1319972   \n",
       "34             Uttarakhand                          1733960   \n",
       "20                 Manipur                          1711044   \n",
       "33           Uttar Pradesh                           370632   \n",
       "12        Himachal Pradesh                          1149441   \n",
       "22                 Mizoram                          1814071   \n",
       "15               Karnataka                          1884633   \n",
       "16                  Kerala                          2270278   \n",
       "13         Jammu & Kashmir                           873826   \n",
       "21               Meghalaya                          1595555   \n",
       "9                      Goa                           117102   \n",
       "11                 Haryana                            40183   \n",
       "4                    Bihar                           206040   \n",
       "25                  Odisha                          1920233   \n",
       "7   Dadra and Nagar Haveli                              260   \n",
       "18          Madhya Pradesh                           868274   \n",
       "3                    Assam                          2570919   \n",
       "6             Chhattisgarh                          2288223   \n",
       "32                 Tripura                           571578   \n",
       "28               Rajasthan                             4122   \n",
       "10                 Gujarat                             7031   \n",
       "35             West Bengal                           332263   \n",
       "19             Maharashtra                           880765   \n",
       "14               Jharkhand                           317420   \n",
       "30              Tamil Nadu                          1001372   \n",
       "26              Puducherry                             5616   \n",
       "1           Andhra Pradesh                          1000583   \n",
       "8            Daman and Diu                                3   \n",
       "27                  Punjab                            69582   \n",
       "31               Telangana                           504043   \n",
       "5               Chandigarh                              940   \n",
       "23                   Delhi                              122   \n",
       "17             Lakshadweep                                0   \n",
       "\n",
       "    Carbon biomass(Mt)  Avg biomass per ha (Mt)  \\\n",
       "2           1844684647                    292.0   \n",
       "0            188271746                    275.0   \n",
       "29            65577734                    261.0   \n",
       "24           342532920                    261.0   \n",
       "34           507773181                    260.0   \n",
       "20           432136552                    253.0   \n",
       "33            86520498                    240.0   \n",
       "12           324786617                    237.0   \n",
       "22           456279696                    236.0   \n",
       "15           514651959                    226.0   \n",
       "16           580909883                    224.0   \n",
       "13           232325897                    216.0   \n",
       "21           365306441                    216.0   \n",
       "9             31303528                    213.0   \n",
       "11             8984386                    210.0   \n",
       "4             32053270                    208.0   \n",
       "25           538313560                    200.0   \n",
       "7                91025                    198.0   \n",
       "18           211814526                    196.0   \n",
       "3            540167021                    196.0   \n",
       "6            522941325                    196.0   \n",
       "32           131231794                    195.0   \n",
       "28             2327764                    194.0   \n",
       "10             3470709                    193.0   \n",
       "35            77525752                    190.0   \n",
       "19           201346173                    187.0   \n",
       "14           102838392                    184.0   \n",
       "30           225495016                    183.0   \n",
       "26             1256209                    180.0   \n",
       "1            196009629                    177.0   \n",
       "8                 3107                    177.0   \n",
       "27            12262591                    164.0   \n",
       "31           104670426                    158.0   \n",
       "5                96724                    137.0   \n",
       "23               33217                    126.0   \n",
       "17                   0                      0.0   \n",
       "\n",
       "    Avg annual\\temissions 2001-10 (Mt)  Avg annual emissions 2011-18 (Mt)  \\\n",
       "2                              2046119                            3079332   \n",
       "0                               379438                              94293   \n",
       "29                               14739                              16971   \n",
       "24                             1790822                            3565702   \n",
       "34                              173051                             172713   \n",
       "20                             1160070                            3256213   \n",
       "33                               52842                              32897   \n",
       "12                               78309                              32922   \n",
       "22                              898461                            4169918   \n",
       "15                              433168                             516482   \n",
       "16                              382432                            1123204   \n",
       "13                               70207                              20050   \n",
       "21                             1213836                            2953875   \n",
       "9                                 6472                               9787   \n",
       "11                                5465                               1489   \n",
       "4                                18614                               6371   \n",
       "25                              889407                            1260347   \n",
       "7                                    6                                  0   \n",
       "18                              100523                              78255   \n",
       "3                              2037451                            3137837   \n",
       "6                               409068                             520315   \n",
       "32                              754223                            1085428   \n",
       "28                                3827                                908   \n",
       "10                                1343                                842   \n",
       "35                              141185                              81426   \n",
       "19                              172158                             165935   \n",
       "14                               78455                              35248   \n",
       "30                              238060                             240331   \n",
       "26                                1085                               1575   \n",
       "1                               285833                             370261   \n",
       "8                                    0                                  2   \n",
       "27                               15120                               4634   \n",
       "31                              299995                             298865   \n",
       "5                                  179                                 11   \n",
       "23                                 135                                 27   \n",
       "17                                   0                                  0   \n",
       "\n",
       "    Difference  \n",
       "2    50.496232  \n",
       "0   -75.149300  \n",
       "29   15.143497  \n",
       "24   99.109794  \n",
       "34   -0.195318  \n",
       "20  180.691079  \n",
       "33  -37.744597  \n",
       "12  -57.958855  \n",
       "22  364.117864  \n",
       "15   19.233646  \n",
       "16  193.700318  \n",
       "13  -71.441594  \n",
       "21  143.350420  \n",
       "9    51.220643  \n",
       "11  -72.753888  \n",
       "4   -65.773074  \n",
       "25   41.706440  \n",
       "7  -100.000000  \n",
       "18  -22.152144  \n",
       "3    54.007974  \n",
       "6    27.195234  \n",
       "32   43.913405  \n",
       "28  -76.273844  \n",
       "10  -37.304542  \n",
       "35  -42.326734  \n",
       "19   -3.614703  \n",
       "14  -55.072334  \n",
       "30    0.953961  \n",
       "26   45.161290  \n",
       "1    29.537527  \n",
       "8          inf  \n",
       "27  -69.351852  \n",
       "31   -0.376673  \n",
       "5   -93.854749  \n",
       "23  -80.000000  \n",
       "17         NaN  "
      ]
     },
     "execution_count": 35,
     "metadata": {},
     "output_type": "execute_result"
    }
   ],
   "source": [
    "df"
   ]
  },
  {
   "cell_type": "code",
   "execution_count": 36,
   "metadata": {},
   "outputs": [],
   "source": [
    "df.drop([8, 17],axis=0,inplace=True)"
   ]
  },
  {
   "cell_type": "code",
   "execution_count": 38,
   "metadata": {},
   "outputs": [],
   "source": [
    "df = df.sort_values('Difference', ascending = False)"
   ]
  },
  {
   "cell_type": "code",
   "execution_count": 55,
   "metadata": {},
   "outputs": [
    {
     "data": {
      "text/html": [
       "<div>\n",
       "<style scoped>\n",
       "    .dataframe tbody tr th:only-of-type {\n",
       "        vertical-align: middle;\n",
       "    }\n",
       "\n",
       "    .dataframe tbody tr th {\n",
       "        vertical-align: top;\n",
       "    }\n",
       "\n",
       "    .dataframe thead th {\n",
       "        text-align: right;\n",
       "    }\n",
       "</style>\n",
       "<table border=\"1\" class=\"dataframe\">\n",
       "  <thead>\n",
       "    <tr style=\"text-align: right;\">\n",
       "      <th></th>\n",
       "      <th>State/UT</th>\n",
       "      <th>Tree cover\\tExtent in 2010 (ha)</th>\n",
       "      <th>Carbon biomass(Mt)</th>\n",
       "      <th>Avg biomass per ha (Mt)</th>\n",
       "      <th>Avg annual\\temissions 2001-10 (Mt)</th>\n",
       "      <th>Avg annual emissions 2011-18 (Mt)</th>\n",
       "      <th>Difference</th>\n",
       "    </tr>\n",
       "  </thead>\n",
       "  <tbody>\n",
       "    <tr>\n",
       "      <th>22</th>\n",
       "      <td>Mizoram</td>\n",
       "      <td>1814071</td>\n",
       "      <td>456279696</td>\n",
       "      <td>236.0</td>\n",
       "      <td>898461</td>\n",
       "      <td>4169918</td>\n",
       "      <td>364.117864</td>\n",
       "    </tr>\n",
       "    <tr>\n",
       "      <th>16</th>\n",
       "      <td>Kerala</td>\n",
       "      <td>2270278</td>\n",
       "      <td>580909883</td>\n",
       "      <td>224.0</td>\n",
       "      <td>382432</td>\n",
       "      <td>1123204</td>\n",
       "      <td>193.700318</td>\n",
       "    </tr>\n",
       "    <tr>\n",
       "      <th>20</th>\n",
       "      <td>Manipur</td>\n",
       "      <td>1711044</td>\n",
       "      <td>432136552</td>\n",
       "      <td>253.0</td>\n",
       "      <td>1160070</td>\n",
       "      <td>3256213</td>\n",
       "      <td>180.691079</td>\n",
       "    </tr>\n",
       "    <tr>\n",
       "      <th>21</th>\n",
       "      <td>Meghalaya</td>\n",
       "      <td>1595555</td>\n",
       "      <td>365306441</td>\n",
       "      <td>216.0</td>\n",
       "      <td>1213836</td>\n",
       "      <td>2953875</td>\n",
       "      <td>143.350420</td>\n",
       "    </tr>\n",
       "    <tr>\n",
       "      <th>24</th>\n",
       "      <td>Nagaland</td>\n",
       "      <td>1319972</td>\n",
       "      <td>342532920</td>\n",
       "      <td>261.0</td>\n",
       "      <td>1790822</td>\n",
       "      <td>3565702</td>\n",
       "      <td>99.109794</td>\n",
       "    </tr>\n",
       "    <tr>\n",
       "      <th>3</th>\n",
       "      <td>Assam</td>\n",
       "      <td>2570919</td>\n",
       "      <td>540167021</td>\n",
       "      <td>196.0</td>\n",
       "      <td>2037451</td>\n",
       "      <td>3137837</td>\n",
       "      <td>54.007974</td>\n",
       "    </tr>\n",
       "    <tr>\n",
       "      <th>9</th>\n",
       "      <td>Goa</td>\n",
       "      <td>117102</td>\n",
       "      <td>31303528</td>\n",
       "      <td>213.0</td>\n",
       "      <td>6472</td>\n",
       "      <td>9787</td>\n",
       "      <td>51.220643</td>\n",
       "    </tr>\n",
       "    <tr>\n",
       "      <th>2</th>\n",
       "      <td>Arunachal Pradesh</td>\n",
       "      <td>6119808</td>\n",
       "      <td>1844684647</td>\n",
       "      <td>292.0</td>\n",
       "      <td>2046119</td>\n",
       "      <td>3079332</td>\n",
       "      <td>50.496232</td>\n",
       "    </tr>\n",
       "    <tr>\n",
       "      <th>26</th>\n",
       "      <td>Puducherry</td>\n",
       "      <td>5616</td>\n",
       "      <td>1256209</td>\n",
       "      <td>180.0</td>\n",
       "      <td>1085</td>\n",
       "      <td>1575</td>\n",
       "      <td>45.161290</td>\n",
       "    </tr>\n",
       "    <tr>\n",
       "      <th>32</th>\n",
       "      <td>Tripura</td>\n",
       "      <td>571578</td>\n",
       "      <td>131231794</td>\n",
       "      <td>195.0</td>\n",
       "      <td>754223</td>\n",
       "      <td>1085428</td>\n",
       "      <td>43.913405</td>\n",
       "    </tr>\n",
       "    <tr>\n",
       "      <th>25</th>\n",
       "      <td>Odisha</td>\n",
       "      <td>1920233</td>\n",
       "      <td>538313560</td>\n",
       "      <td>200.0</td>\n",
       "      <td>889407</td>\n",
       "      <td>1260347</td>\n",
       "      <td>41.706440</td>\n",
       "    </tr>\n",
       "    <tr>\n",
       "      <th>1</th>\n",
       "      <td>Andhra Pradesh</td>\n",
       "      <td>1000583</td>\n",
       "      <td>196009629</td>\n",
       "      <td>177.0</td>\n",
       "      <td>285833</td>\n",
       "      <td>370261</td>\n",
       "      <td>29.537527</td>\n",
       "    </tr>\n",
       "    <tr>\n",
       "      <th>6</th>\n",
       "      <td>Chhattisgarh</td>\n",
       "      <td>2288223</td>\n",
       "      <td>522941325</td>\n",
       "      <td>196.0</td>\n",
       "      <td>409068</td>\n",
       "      <td>520315</td>\n",
       "      <td>27.195234</td>\n",
       "    </tr>\n",
       "    <tr>\n",
       "      <th>15</th>\n",
       "      <td>Karnataka</td>\n",
       "      <td>1884633</td>\n",
       "      <td>514651959</td>\n",
       "      <td>226.0</td>\n",
       "      <td>433168</td>\n",
       "      <td>516482</td>\n",
       "      <td>19.233646</td>\n",
       "    </tr>\n",
       "    <tr>\n",
       "      <th>29</th>\n",
       "      <td>Sikkim</td>\n",
       "      <td>254097</td>\n",
       "      <td>65577734</td>\n",
       "      <td>261.0</td>\n",
       "      <td>14739</td>\n",
       "      <td>16971</td>\n",
       "      <td>15.143497</td>\n",
       "    </tr>\n",
       "    <tr>\n",
       "      <th>30</th>\n",
       "      <td>Tamil Nadu</td>\n",
       "      <td>1001372</td>\n",
       "      <td>225495016</td>\n",
       "      <td>183.0</td>\n",
       "      <td>238060</td>\n",
       "      <td>240331</td>\n",
       "      <td>0.953961</td>\n",
       "    </tr>\n",
       "    <tr>\n",
       "      <th>34</th>\n",
       "      <td>Uttarakhand</td>\n",
       "      <td>1733960</td>\n",
       "      <td>507773181</td>\n",
       "      <td>260.0</td>\n",
       "      <td>173051</td>\n",
       "      <td>172713</td>\n",
       "      <td>-0.195318</td>\n",
       "    </tr>\n",
       "    <tr>\n",
       "      <th>31</th>\n",
       "      <td>Telangana</td>\n",
       "      <td>504043</td>\n",
       "      <td>104670426</td>\n",
       "      <td>158.0</td>\n",
       "      <td>299995</td>\n",
       "      <td>298865</td>\n",
       "      <td>-0.376673</td>\n",
       "    </tr>\n",
       "    <tr>\n",
       "      <th>19</th>\n",
       "      <td>Maharashtra</td>\n",
       "      <td>880765</td>\n",
       "      <td>201346173</td>\n",
       "      <td>187.0</td>\n",
       "      <td>172158</td>\n",
       "      <td>165935</td>\n",
       "      <td>-3.614703</td>\n",
       "    </tr>\n",
       "    <tr>\n",
       "      <th>18</th>\n",
       "      <td>Madhya Pradesh</td>\n",
       "      <td>868274</td>\n",
       "      <td>211814526</td>\n",
       "      <td>196.0</td>\n",
       "      <td>100523</td>\n",
       "      <td>78255</td>\n",
       "      <td>-22.152144</td>\n",
       "    </tr>\n",
       "    <tr>\n",
       "      <th>10</th>\n",
       "      <td>Gujarat</td>\n",
       "      <td>7031</td>\n",
       "      <td>3470709</td>\n",
       "      <td>193.0</td>\n",
       "      <td>1343</td>\n",
       "      <td>842</td>\n",
       "      <td>-37.304542</td>\n",
       "    </tr>\n",
       "    <tr>\n",
       "      <th>33</th>\n",
       "      <td>Uttar Pradesh</td>\n",
       "      <td>370632</td>\n",
       "      <td>86520498</td>\n",
       "      <td>240.0</td>\n",
       "      <td>52842</td>\n",
       "      <td>32897</td>\n",
       "      <td>-37.744597</td>\n",
       "    </tr>\n",
       "    <tr>\n",
       "      <th>35</th>\n",
       "      <td>West Bengal</td>\n",
       "      <td>332263</td>\n",
       "      <td>77525752</td>\n",
       "      <td>190.0</td>\n",
       "      <td>141185</td>\n",
       "      <td>81426</td>\n",
       "      <td>-42.326734</td>\n",
       "    </tr>\n",
       "    <tr>\n",
       "      <th>14</th>\n",
       "      <td>Jharkhand</td>\n",
       "      <td>317420</td>\n",
       "      <td>102838392</td>\n",
       "      <td>184.0</td>\n",
       "      <td>78455</td>\n",
       "      <td>35248</td>\n",
       "      <td>-55.072334</td>\n",
       "    </tr>\n",
       "    <tr>\n",
       "      <th>12</th>\n",
       "      <td>Himachal Pradesh</td>\n",
       "      <td>1149441</td>\n",
       "      <td>324786617</td>\n",
       "      <td>237.0</td>\n",
       "      <td>78309</td>\n",
       "      <td>32922</td>\n",
       "      <td>-57.958855</td>\n",
       "    </tr>\n",
       "    <tr>\n",
       "      <th>4</th>\n",
       "      <td>Bihar</td>\n",
       "      <td>206040</td>\n",
       "      <td>32053270</td>\n",
       "      <td>208.0</td>\n",
       "      <td>18614</td>\n",
       "      <td>6371</td>\n",
       "      <td>-65.773074</td>\n",
       "    </tr>\n",
       "    <tr>\n",
       "      <th>27</th>\n",
       "      <td>Punjab</td>\n",
       "      <td>69582</td>\n",
       "      <td>12262591</td>\n",
       "      <td>164.0</td>\n",
       "      <td>15120</td>\n",
       "      <td>4634</td>\n",
       "      <td>-69.351852</td>\n",
       "    </tr>\n",
       "    <tr>\n",
       "      <th>13</th>\n",
       "      <td>Jammu &amp; Kashmir</td>\n",
       "      <td>873826</td>\n",
       "      <td>232325897</td>\n",
       "      <td>216.0</td>\n",
       "      <td>70207</td>\n",
       "      <td>20050</td>\n",
       "      <td>-71.441594</td>\n",
       "    </tr>\n",
       "    <tr>\n",
       "      <th>11</th>\n",
       "      <td>Haryana</td>\n",
       "      <td>40183</td>\n",
       "      <td>8984386</td>\n",
       "      <td>210.0</td>\n",
       "      <td>5465</td>\n",
       "      <td>1489</td>\n",
       "      <td>-72.753888</td>\n",
       "    </tr>\n",
       "    <tr>\n",
       "      <th>0</th>\n",
       "      <td>Andaman &amp; Nicobar</td>\n",
       "      <td>680192</td>\n",
       "      <td>188271746</td>\n",
       "      <td>275.0</td>\n",
       "      <td>379438</td>\n",
       "      <td>94293</td>\n",
       "      <td>-75.149300</td>\n",
       "    </tr>\n",
       "    <tr>\n",
       "      <th>28</th>\n",
       "      <td>Rajasthan</td>\n",
       "      <td>4122</td>\n",
       "      <td>2327764</td>\n",
       "      <td>194.0</td>\n",
       "      <td>3827</td>\n",
       "      <td>908</td>\n",
       "      <td>-76.273844</td>\n",
       "    </tr>\n",
       "    <tr>\n",
       "      <th>23</th>\n",
       "      <td>Delhi</td>\n",
       "      <td>122</td>\n",
       "      <td>33217</td>\n",
       "      <td>126.0</td>\n",
       "      <td>135</td>\n",
       "      <td>27</td>\n",
       "      <td>-80.000000</td>\n",
       "    </tr>\n",
       "    <tr>\n",
       "      <th>5</th>\n",
       "      <td>Chandigarh</td>\n",
       "      <td>940</td>\n",
       "      <td>96724</td>\n",
       "      <td>137.0</td>\n",
       "      <td>179</td>\n",
       "      <td>11</td>\n",
       "      <td>-93.854749</td>\n",
       "    </tr>\n",
       "    <tr>\n",
       "      <th>7</th>\n",
       "      <td>Dadra and Nagar Haveli</td>\n",
       "      <td>260</td>\n",
       "      <td>91025</td>\n",
       "      <td>198.0</td>\n",
       "      <td>6</td>\n",
       "      <td>0</td>\n",
       "      <td>-100.000000</td>\n",
       "    </tr>\n",
       "  </tbody>\n",
       "</table>\n",
       "</div>"
      ],
      "text/plain": [
       "                  State/UT  Tree cover\\tExtent in 2010 (ha)  \\\n",
       "22                 Mizoram                          1814071   \n",
       "16                  Kerala                          2270278   \n",
       "20                 Manipur                          1711044   \n",
       "21               Meghalaya                          1595555   \n",
       "24                Nagaland                          1319972   \n",
       "3                    Assam                          2570919   \n",
       "9                      Goa                           117102   \n",
       "2        Arunachal Pradesh                          6119808   \n",
       "26              Puducherry                             5616   \n",
       "32                 Tripura                           571578   \n",
       "25                  Odisha                          1920233   \n",
       "1           Andhra Pradesh                          1000583   \n",
       "6             Chhattisgarh                          2288223   \n",
       "15               Karnataka                          1884633   \n",
       "29                  Sikkim                           254097   \n",
       "30              Tamil Nadu                          1001372   \n",
       "34             Uttarakhand                          1733960   \n",
       "31               Telangana                           504043   \n",
       "19             Maharashtra                           880765   \n",
       "18          Madhya Pradesh                           868274   \n",
       "10                 Gujarat                             7031   \n",
       "33           Uttar Pradesh                           370632   \n",
       "35             West Bengal                           332263   \n",
       "14               Jharkhand                           317420   \n",
       "12        Himachal Pradesh                          1149441   \n",
       "4                    Bihar                           206040   \n",
       "27                  Punjab                            69582   \n",
       "13         Jammu & Kashmir                           873826   \n",
       "11                 Haryana                            40183   \n",
       "0        Andaman & Nicobar                           680192   \n",
       "28               Rajasthan                             4122   \n",
       "23                   Delhi                              122   \n",
       "5               Chandigarh                              940   \n",
       "7   Dadra and Nagar Haveli                              260   \n",
       "\n",
       "    Carbon biomass(Mt)  Avg biomass per ha (Mt)  \\\n",
       "22           456279696                    236.0   \n",
       "16           580909883                    224.0   \n",
       "20           432136552                    253.0   \n",
       "21           365306441                    216.0   \n",
       "24           342532920                    261.0   \n",
       "3            540167021                    196.0   \n",
       "9             31303528                    213.0   \n",
       "2           1844684647                    292.0   \n",
       "26             1256209                    180.0   \n",
       "32           131231794                    195.0   \n",
       "25           538313560                    200.0   \n",
       "1            196009629                    177.0   \n",
       "6            522941325                    196.0   \n",
       "15           514651959                    226.0   \n",
       "29            65577734                    261.0   \n",
       "30           225495016                    183.0   \n",
       "34           507773181                    260.0   \n",
       "31           104670426                    158.0   \n",
       "19           201346173                    187.0   \n",
       "18           211814526                    196.0   \n",
       "10             3470709                    193.0   \n",
       "33            86520498                    240.0   \n",
       "35            77525752                    190.0   \n",
       "14           102838392                    184.0   \n",
       "12           324786617                    237.0   \n",
       "4             32053270                    208.0   \n",
       "27            12262591                    164.0   \n",
       "13           232325897                    216.0   \n",
       "11             8984386                    210.0   \n",
       "0            188271746                    275.0   \n",
       "28             2327764                    194.0   \n",
       "23               33217                    126.0   \n",
       "5                96724                    137.0   \n",
       "7                91025                    198.0   \n",
       "\n",
       "    Avg annual\\temissions 2001-10 (Mt)  Avg annual emissions 2011-18 (Mt)  \\\n",
       "22                              898461                            4169918   \n",
       "16                              382432                            1123204   \n",
       "20                             1160070                            3256213   \n",
       "21                             1213836                            2953875   \n",
       "24                             1790822                            3565702   \n",
       "3                              2037451                            3137837   \n",
       "9                                 6472                               9787   \n",
       "2                              2046119                            3079332   \n",
       "26                                1085                               1575   \n",
       "32                              754223                            1085428   \n",
       "25                              889407                            1260347   \n",
       "1                               285833                             370261   \n",
       "6                               409068                             520315   \n",
       "15                              433168                             516482   \n",
       "29                               14739                              16971   \n",
       "30                              238060                             240331   \n",
       "34                              173051                             172713   \n",
       "31                              299995                             298865   \n",
       "19                              172158                             165935   \n",
       "18                              100523                              78255   \n",
       "10                                1343                                842   \n",
       "33                               52842                              32897   \n",
       "35                              141185                              81426   \n",
       "14                               78455                              35248   \n",
       "12                               78309                              32922   \n",
       "4                                18614                               6371   \n",
       "27                               15120                               4634   \n",
       "13                               70207                              20050   \n",
       "11                                5465                               1489   \n",
       "0                               379438                              94293   \n",
       "28                                3827                                908   \n",
       "23                                 135                                 27   \n",
       "5                                  179                                 11   \n",
       "7                                    6                                  0   \n",
       "\n",
       "    Difference  \n",
       "22  364.117864  \n",
       "16  193.700318  \n",
       "20  180.691079  \n",
       "21  143.350420  \n",
       "24   99.109794  \n",
       "3    54.007974  \n",
       "9    51.220643  \n",
       "2    50.496232  \n",
       "26   45.161290  \n",
       "32   43.913405  \n",
       "25   41.706440  \n",
       "1    29.537527  \n",
       "6    27.195234  \n",
       "15   19.233646  \n",
       "29   15.143497  \n",
       "30    0.953961  \n",
       "34   -0.195318  \n",
       "31   -0.376673  \n",
       "19   -3.614703  \n",
       "18  -22.152144  \n",
       "10  -37.304542  \n",
       "33  -37.744597  \n",
       "35  -42.326734  \n",
       "14  -55.072334  \n",
       "12  -57.958855  \n",
       "4   -65.773074  \n",
       "27  -69.351852  \n",
       "13  -71.441594  \n",
       "11  -72.753888  \n",
       "0   -75.149300  \n",
       "28  -76.273844  \n",
       "23  -80.000000  \n",
       "5   -93.854749  \n",
       "7  -100.000000  "
      ]
     },
     "execution_count": 55,
     "metadata": {},
     "output_type": "execute_result"
    }
   ],
   "source": [
    "df"
   ]
  },
  {
   "cell_type": "code",
   "execution_count": 53,
   "metadata": {
    "scrolled": false
   },
   "outputs": [
    {
     "data": {
      "image/png": "[encoded data removed]",
      "text/plain": [
       "<Figure size 1080x576 with 1 Axes>"
      ]
     },
     "metadata": {},
     "output_type": "display_data"
    }
   ],
   "source": [
    "plt.figure(figsize=(15,8))                                  \n",
    "plt.style.use(\"seaborn-darkgrid\")\n",
    "\n",
    "y = df['Difference']\n",
    "x = df['State/UT']\n",
    "width = 0.5\n",
    "\n",
    "#Formatting marker and baselines\n",
    "(markers, stemlines, baseline) = plt.stem(x, y, markerfmt='o', linefmt='midnightblue')\n",
    "plt.setp(markers, marker='o', markersize=10, markeredgecolor=\"red\", markeredgewidth=2)\n",
    "\n",
    "plt.xticks(x,rotation=45, ha=\"right\", fontsize=12)\n",
    "plt.yticks(fontsize = 12)\n",
    "plt.ticklabel_format(axis=\"y\", style='plain')\n",
    "plt.title(\"PERCENTAGE CHANGE IN AVERAGE BIOMASS EMISSIONS FROM  2001-2010 TO 2011-2018\", fontsize=16)\n",
    "plt.xlabel(\"STATES / UNION TERRITORIES \", fontsize = 14)\n",
    "plt.ylabel(\"PERCENTAGE CHANGE\", fontsize = 14)\n",
    "markers.set_markerfacecolor('salmon')\n",
    "\n",
    "\n",
    "### dpi increases resolution of the picture\n",
    "plt.savefig('PERCENTAGE_CHANGE_IN_AVERAGE_BIOMASS_EMISSIONS.png',transparent=False, bbox_inches='tight', pad_inches=0, dpi = 1200)     \n",
    "plt.show()\n",
    "plt.close()"
   ]
  },
  {
   "cell_type": "markdown",
   "metadata": {},
   "source": [
    "*Interpretation :  The above graphs shows that there has been an increase in the rate of biomass emission from 2011-2018 as compared to 2001 - 2011. Mizoram depicts the highest positive change with a percentage of 300. Kerala, Manipur and Meghalaya indicate a postive change of more than 100%. The state Telangana barely reflects any change in the two given timelines. Also there has been seen a decrease in the biomass emitions for the two periods with Dadra and Nagar Haveli accounting for the most decrease of 100% followed by the Union Terretories Chandigarh and Delhi.*"
   ]
  },
  {
   "cell_type": "code",
   "execution_count": null,
   "metadata": {},
   "outputs": [],
   "source": []
  }
 ],
 "metadata": {
  "kernelspec": {
   "display_name": "Python 3",
   "language": "python",
   "name": "python3"
  },
  "language_info": {
   "codemirror_mode": {
    "name": "ipython",
    "version": 3
   },
   "file_extension": ".py",
   "mimetype": "text/x-python",
   "name": "python",
   "nbconvert_exporter": "python",
   "pygments_lexer": "ipython3",
   "version": "3.8.5"
  }
 },
 "nbformat": 4,
 "nbformat_minor": 4
}
